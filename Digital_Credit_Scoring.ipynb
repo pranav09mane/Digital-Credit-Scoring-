{
  "nbformat": 4,
  "nbformat_minor": 0,
  "metadata": {
    "colab": {
      "provenance": []
    },
    "kernelspec": {
      "name": "python3",
      "display_name": "Python 3"
    },
    "language_info": {
      "name": "python"
    }
  },
  "cells": [
    {
      "cell_type": "markdown",
      "source": [
        "# Data Profiling"
      ],
      "metadata": {
        "id": "YThwZFKSsfmi"
      }
    },
    {
      "cell_type": "code",
      "execution_count": 1,
      "metadata": {
        "colab": {
          "base_uri": "https://localhost:8080/",
          "height": 347
        },
        "id": "6-haElwfsc9Q",
        "outputId": "8c92f1bc-8d15-49d4-900f-7b2ffc37fa59"
      },
      "outputs": [
        {
          "output_type": "stream",
          "name": "stdout",
          "text": [
            "Rows: 800 | Columns: 15\n"
          ]
        },
        {
          "output_type": "execute_result",
          "data": {
            "text/plain": [
              "             Name   Age  Gender        City  Degree  CGPA      Internship  \\\n",
              "0    Aarav Sharma  21.0    Male        Pune  B.Tech   8.2  Yes (3 months)   \n",
              "1     Sneha Patil  22.0  Female      Mumbai     MBA   7.6  Yes (6 months)   \n",
              "2  Rohan Deshmukh  20.0    Male      Nagpur   B.Com   6.9              No   \n",
              "3     Meera Joshi  23.0  Female      Nashik  M.Tech   9.1  Yes (4 months)   \n",
              "4       Yash Kale  19.0    Male  Aurangabad     BCA   7.4              No   \n",
              "\n",
              "  Family Income   Scholarship       Loan Type Bank Account     Subscriptions  \\\n",
              "0          36L  Yes (?25000)  Education Loan      Savings      Netflix, Gym   \n",
              "1         610L            No              No      Student      Spotify, OTT   \n",
              "2          13L  Yes (?15000)              No      Savings          OTT, Gym   \n",
              "3        1015L            No   Personal Loan        Joint  Netflix, Spotify   \n",
              "4           <1L  Yes (?10000)              No      Student               OTT   \n",
              "\n",
              "   Food Spend (â¹)  Monthly Expenses (â¹) Savings Pattern  \n",
              "0            1200.0                  8500.0         Regular  \n",
              "1            1800.0                  9500.0      Occasional  \n",
              "2             900.0                  6000.0             NaN  \n",
              "3            2500.0                 12000.0         Regular  \n",
              "4             700.0                  4500.0      Occasional  "
            ],
            "text/html": [
              "\n",
              "  <div id=\"df-7b2f5c5b-1f6b-4869-8dc4-c7558f382006\" class=\"colab-df-container\">\n",
              "    <div>\n",
              "<style scoped>\n",
              "    .dataframe tbody tr th:only-of-type {\n",
              "        vertical-align: middle;\n",
              "    }\n",
              "\n",
              "    .dataframe tbody tr th {\n",
              "        vertical-align: top;\n",
              "    }\n",
              "\n",
              "    .dataframe thead th {\n",
              "        text-align: right;\n",
              "    }\n",
              "</style>\n",
              "<table border=\"1\" class=\"dataframe\">\n",
              "  <thead>\n",
              "    <tr style=\"text-align: right;\">\n",
              "      <th></th>\n",
              "      <th>Name</th>\n",
              "      <th>Age</th>\n",
              "      <th>Gender</th>\n",
              "      <th>City</th>\n",
              "      <th>Degree</th>\n",
              "      <th>CGPA</th>\n",
              "      <th>Internship</th>\n",
              "      <th>Family Income</th>\n",
              "      <th>Scholarship</th>\n",
              "      <th>Loan Type</th>\n",
              "      <th>Bank Account</th>\n",
              "      <th>Subscriptions</th>\n",
              "      <th>Food Spend (â¹)</th>\n",
              "      <th>Monthly Expenses (â¹)</th>\n",
              "      <th>Savings Pattern</th>\n",
              "    </tr>\n",
              "  </thead>\n",
              "  <tbody>\n",
              "    <tr>\n",
              "      <th>0</th>\n",
              "      <td>Aarav Sharma</td>\n",
              "      <td>21.0</td>\n",
              "      <td>Male</td>\n",
              "      <td>Pune</td>\n",
              "      <td>B.Tech</td>\n",
              "      <td>8.2</td>\n",
              "      <td>Yes (3 months)</td>\n",
              "      <td>36L</td>\n",
              "      <td>Yes (?25000)</td>\n",
              "      <td>Education Loan</td>\n",
              "      <td>Savings</td>\n",
              "      <td>Netflix, Gym</td>\n",
              "      <td>1200.0</td>\n",
              "      <td>8500.0</td>\n",
              "      <td>Regular</td>\n",
              "    </tr>\n",
              "    <tr>\n",
              "      <th>1</th>\n",
              "      <td>Sneha Patil</td>\n",
              "      <td>22.0</td>\n",
              "      <td>Female</td>\n",
              "      <td>Mumbai</td>\n",
              "      <td>MBA</td>\n",
              "      <td>7.6</td>\n",
              "      <td>Yes (6 months)</td>\n",
              "      <td>610L</td>\n",
              "      <td>No</td>\n",
              "      <td>No</td>\n",
              "      <td>Student</td>\n",
              "      <td>Spotify, OTT</td>\n",
              "      <td>1800.0</td>\n",
              "      <td>9500.0</td>\n",
              "      <td>Occasional</td>\n",
              "    </tr>\n",
              "    <tr>\n",
              "      <th>2</th>\n",
              "      <td>Rohan Deshmukh</td>\n",
              "      <td>20.0</td>\n",
              "      <td>Male</td>\n",
              "      <td>Nagpur</td>\n",
              "      <td>B.Com</td>\n",
              "      <td>6.9</td>\n",
              "      <td>No</td>\n",
              "      <td>13L</td>\n",
              "      <td>Yes (?15000)</td>\n",
              "      <td>No</td>\n",
              "      <td>Savings</td>\n",
              "      <td>OTT, Gym</td>\n",
              "      <td>900.0</td>\n",
              "      <td>6000.0</td>\n",
              "      <td>NaN</td>\n",
              "    </tr>\n",
              "    <tr>\n",
              "      <th>3</th>\n",
              "      <td>Meera Joshi</td>\n",
              "      <td>23.0</td>\n",
              "      <td>Female</td>\n",
              "      <td>Nashik</td>\n",
              "      <td>M.Tech</td>\n",
              "      <td>9.1</td>\n",
              "      <td>Yes (4 months)</td>\n",
              "      <td>1015L</td>\n",
              "      <td>No</td>\n",
              "      <td>Personal Loan</td>\n",
              "      <td>Joint</td>\n",
              "      <td>Netflix, Spotify</td>\n",
              "      <td>2500.0</td>\n",
              "      <td>12000.0</td>\n",
              "      <td>Regular</td>\n",
              "    </tr>\n",
              "    <tr>\n",
              "      <th>4</th>\n",
              "      <td>Yash Kale</td>\n",
              "      <td>19.0</td>\n",
              "      <td>Male</td>\n",
              "      <td>Aurangabad</td>\n",
              "      <td>BCA</td>\n",
              "      <td>7.4</td>\n",
              "      <td>No</td>\n",
              "      <td>&lt;1L</td>\n",
              "      <td>Yes (?10000)</td>\n",
              "      <td>No</td>\n",
              "      <td>Student</td>\n",
              "      <td>OTT</td>\n",
              "      <td>700.0</td>\n",
              "      <td>4500.0</td>\n",
              "      <td>Occasional</td>\n",
              "    </tr>\n",
              "  </tbody>\n",
              "</table>\n",
              "</div>\n",
              "    <div class=\"colab-df-buttons\">\n",
              "\n",
              "  <div class=\"colab-df-container\">\n",
              "    <button class=\"colab-df-convert\" onclick=\"convertToInteractive('df-7b2f5c5b-1f6b-4869-8dc4-c7558f382006')\"\n",
              "            title=\"Convert this dataframe to an interactive table.\"\n",
              "            style=\"display:none;\">\n",
              "\n",
              "  <svg xmlns=\"http://www.w3.org/2000/svg\" height=\"24px\" viewBox=\"0 -960 960 960\">\n",
              "    <path d=\"M120-120v-720h720v720H120Zm60-500h600v-160H180v160Zm220 220h160v-160H400v160Zm0 220h160v-160H400v160ZM180-400h160v-160H180v160Zm440 0h160v-160H620v160ZM180-180h160v-160H180v160Zm440 0h160v-160H620v160Z\"/>\n",
              "  </svg>\n",
              "    </button>\n",
              "\n",
              "  <style>\n",
              "    .colab-df-container {\n",
              "      display:flex;\n",
              "      gap: 12px;\n",
              "    }\n",
              "\n",
              "    .colab-df-convert {\n",
              "      background-color: #E8F0FE;\n",
              "      border: none;\n",
              "      border-radius: 50%;\n",
              "      cursor: pointer;\n",
              "      display: none;\n",
              "      fill: #1967D2;\n",
              "      height: 32px;\n",
              "      padding: 0 0 0 0;\n",
              "      width: 32px;\n",
              "    }\n",
              "\n",
              "    .colab-df-convert:hover {\n",
              "      background-color: #E2EBFA;\n",
              "      box-shadow: 0px 1px 2px rgba(60, 64, 67, 0.3), 0px 1px 3px 1px rgba(60, 64, 67, 0.15);\n",
              "      fill: #174EA6;\n",
              "    }\n",
              "\n",
              "    .colab-df-buttons div {\n",
              "      margin-bottom: 4px;\n",
              "    }\n",
              "\n",
              "    [theme=dark] .colab-df-convert {\n",
              "      background-color: #3B4455;\n",
              "      fill: #D2E3FC;\n",
              "    }\n",
              "\n",
              "    [theme=dark] .colab-df-convert:hover {\n",
              "      background-color: #434B5C;\n",
              "      box-shadow: 0px 1px 3px 1px rgba(0, 0, 0, 0.15);\n",
              "      filter: drop-shadow(0px 1px 2px rgba(0, 0, 0, 0.3));\n",
              "      fill: #FFFFFF;\n",
              "    }\n",
              "  </style>\n",
              "\n",
              "    <script>\n",
              "      const buttonEl =\n",
              "        document.querySelector('#df-7b2f5c5b-1f6b-4869-8dc4-c7558f382006 button.colab-df-convert');\n",
              "      buttonEl.style.display =\n",
              "        google.colab.kernel.accessAllowed ? 'block' : 'none';\n",
              "\n",
              "      async function convertToInteractive(key) {\n",
              "        const element = document.querySelector('#df-7b2f5c5b-1f6b-4869-8dc4-c7558f382006');\n",
              "        const dataTable =\n",
              "          await google.colab.kernel.invokeFunction('convertToInteractive',\n",
              "                                                    [key], {});\n",
              "        if (!dataTable) return;\n",
              "\n",
              "        const docLinkHtml = 'Like what you see? Visit the ' +\n",
              "          '<a target=\"_blank\" href=https://colab.research.google.com/notebooks/data_table.ipynb>data table notebook</a>'\n",
              "          + ' to learn more about interactive tables.';\n",
              "        element.innerHTML = '';\n",
              "        dataTable['output_type'] = 'display_data';\n",
              "        await google.colab.output.renderOutput(dataTable, element);\n",
              "        const docLink = document.createElement('div');\n",
              "        docLink.innerHTML = docLinkHtml;\n",
              "        element.appendChild(docLink);\n",
              "      }\n",
              "    </script>\n",
              "  </div>\n",
              "\n",
              "\n",
              "    <div id=\"df-ec8adbb0-f11a-4fd7-b505-aa3c4131557d\">\n",
              "      <button class=\"colab-df-quickchart\" onclick=\"quickchart('df-ec8adbb0-f11a-4fd7-b505-aa3c4131557d')\"\n",
              "                title=\"Suggest charts\"\n",
              "                style=\"display:none;\">\n",
              "\n",
              "<svg xmlns=\"http://www.w3.org/2000/svg\" height=\"24px\"viewBox=\"0 0 24 24\"\n",
              "     width=\"24px\">\n",
              "    <g>\n",
              "        <path d=\"M19 3H5c-1.1 0-2 .9-2 2v14c0 1.1.9 2 2 2h14c1.1 0 2-.9 2-2V5c0-1.1-.9-2-2-2zM9 17H7v-7h2v7zm4 0h-2V7h2v10zm4 0h-2v-4h2v4z\"/>\n",
              "    </g>\n",
              "</svg>\n",
              "      </button>\n",
              "\n",
              "<style>\n",
              "  .colab-df-quickchart {\n",
              "      --bg-color: #E8F0FE;\n",
              "      --fill-color: #1967D2;\n",
              "      --hover-bg-color: #E2EBFA;\n",
              "      --hover-fill-color: #174EA6;\n",
              "      --disabled-fill-color: #AAA;\n",
              "      --disabled-bg-color: #DDD;\n",
              "  }\n",
              "\n",
              "  [theme=dark] .colab-df-quickchart {\n",
              "      --bg-color: #3B4455;\n",
              "      --fill-color: #D2E3FC;\n",
              "      --hover-bg-color: #434B5C;\n",
              "      --hover-fill-color: #FFFFFF;\n",
              "      --disabled-bg-color: #3B4455;\n",
              "      --disabled-fill-color: #666;\n",
              "  }\n",
              "\n",
              "  .colab-df-quickchart {\n",
              "    background-color: var(--bg-color);\n",
              "    border: none;\n",
              "    border-radius: 50%;\n",
              "    cursor: pointer;\n",
              "    display: none;\n",
              "    fill: var(--fill-color);\n",
              "    height: 32px;\n",
              "    padding: 0;\n",
              "    width: 32px;\n",
              "  }\n",
              "\n",
              "  .colab-df-quickchart:hover {\n",
              "    background-color: var(--hover-bg-color);\n",
              "    box-shadow: 0 1px 2px rgba(60, 64, 67, 0.3), 0 1px 3px 1px rgba(60, 64, 67, 0.15);\n",
              "    fill: var(--button-hover-fill-color);\n",
              "  }\n",
              "\n",
              "  .colab-df-quickchart-complete:disabled,\n",
              "  .colab-df-quickchart-complete:disabled:hover {\n",
              "    background-color: var(--disabled-bg-color);\n",
              "    fill: var(--disabled-fill-color);\n",
              "    box-shadow: none;\n",
              "  }\n",
              "\n",
              "  .colab-df-spinner {\n",
              "    border: 2px solid var(--fill-color);\n",
              "    border-color: transparent;\n",
              "    border-bottom-color: var(--fill-color);\n",
              "    animation:\n",
              "      spin 1s steps(1) infinite;\n",
              "  }\n",
              "\n",
              "  @keyframes spin {\n",
              "    0% {\n",
              "      border-color: transparent;\n",
              "      border-bottom-color: var(--fill-color);\n",
              "      border-left-color: var(--fill-color);\n",
              "    }\n",
              "    20% {\n",
              "      border-color: transparent;\n",
              "      border-left-color: var(--fill-color);\n",
              "      border-top-color: var(--fill-color);\n",
              "    }\n",
              "    30% {\n",
              "      border-color: transparent;\n",
              "      border-left-color: var(--fill-color);\n",
              "      border-top-color: var(--fill-color);\n",
              "      border-right-color: var(--fill-color);\n",
              "    }\n",
              "    40% {\n",
              "      border-color: transparent;\n",
              "      border-right-color: var(--fill-color);\n",
              "      border-top-color: var(--fill-color);\n",
              "    }\n",
              "    60% {\n",
              "      border-color: transparent;\n",
              "      border-right-color: var(--fill-color);\n",
              "    }\n",
              "    80% {\n",
              "      border-color: transparent;\n",
              "      border-right-color: var(--fill-color);\n",
              "      border-bottom-color: var(--fill-color);\n",
              "    }\n",
              "    90% {\n",
              "      border-color: transparent;\n",
              "      border-bottom-color: var(--fill-color);\n",
              "    }\n",
              "  }\n",
              "</style>\n",
              "\n",
              "      <script>\n",
              "        async function quickchart(key) {\n",
              "          const quickchartButtonEl =\n",
              "            document.querySelector('#' + key + ' button');\n",
              "          quickchartButtonEl.disabled = true;  // To prevent multiple clicks.\n",
              "          quickchartButtonEl.classList.add('colab-df-spinner');\n",
              "          try {\n",
              "            const charts = await google.colab.kernel.invokeFunction(\n",
              "                'suggestCharts', [key], {});\n",
              "          } catch (error) {\n",
              "            console.error('Error during call to suggestCharts:', error);\n",
              "          }\n",
              "          quickchartButtonEl.classList.remove('colab-df-spinner');\n",
              "          quickchartButtonEl.classList.add('colab-df-quickchart-complete');\n",
              "        }\n",
              "        (() => {\n",
              "          let quickchartButtonEl =\n",
              "            document.querySelector('#df-ec8adbb0-f11a-4fd7-b505-aa3c4131557d button');\n",
              "          quickchartButtonEl.style.display =\n",
              "            google.colab.kernel.accessAllowed ? 'block' : 'none';\n",
              "        })();\n",
              "      </script>\n",
              "    </div>\n",
              "\n",
              "    </div>\n",
              "  </div>\n"
            ],
            "application/vnd.google.colaboratory.intrinsic+json": {
              "type": "dataframe",
              "variable_name": "df",
              "summary": "{\n  \"name\": \"df\",\n  \"rows\": 800,\n  \"fields\": [\n    {\n      \"column\": \"Name\",\n      \"properties\": {\n        \"dtype\": \"string\",\n        \"num_unique_values\": 676,\n        \"samples\": [\n          \"Rachna Kumari\",\n          \"Simran Gokhale\",\n          \"Rutuja Salunkhe\"\n        ],\n        \"semantic_type\": \"\",\n        \"description\": \"\"\n      }\n    },\n    {\n      \"column\": \"Age\",\n      \"properties\": {\n        \"dtype\": \"number\",\n        \"std\": 1.1109589260797508,\n        \"min\": 19.0,\n        \"max\": 24.0,\n        \"num_unique_values\": 6,\n        \"samples\": [\n          21.0,\n          22.0,\n          24.0\n        ],\n        \"semantic_type\": \"\",\n        \"description\": \"\"\n      }\n    },\n    {\n      \"column\": \"Gender\",\n      \"properties\": {\n        \"dtype\": \"category\",\n        \"num_unique_values\": 2,\n        \"samples\": [\n          \"Female\",\n          \"Male\"\n        ],\n        \"semantic_type\": \"\",\n        \"description\": \"\"\n      }\n    },\n    {\n      \"column\": \"City\",\n      \"properties\": {\n        \"dtype\": \"category\",\n        \"num_unique_values\": 84,\n        \"samples\": [\n          \"Hubli\",\n          \"Pune\"\n        ],\n        \"semantic_type\": \"\",\n        \"description\": \"\"\n      }\n    },\n    {\n      \"column\": \"Degree\",\n      \"properties\": {\n        \"dtype\": \"category\",\n        \"num_unique_values\": 9,\n        \"samples\": [\n          \"M.Sc\",\n          \"MBA\"\n        ],\n        \"semantic_type\": \"\",\n        \"description\": \"\"\n      }\n    },\n    {\n      \"column\": \"CGPA\",\n      \"properties\": {\n        \"dtype\": \"number\",\n        \"std\": 0.7654542936214667,\n        \"min\": 6.4,\n        \"max\": 9.2,\n        \"num_unique_values\": 28,\n        \"samples\": [\n          7.9,\n          7.8\n        ],\n        \"semantic_type\": \"\",\n        \"description\": \"\"\n      }\n    },\n    {\n      \"column\": \"Internship\",\n      \"properties\": {\n        \"dtype\": \"category\",\n        \"num_unique_values\": 9,\n        \"samples\": [\n          \"no\",\n          \"Yes (6 months)\"\n        ],\n        \"semantic_type\": \"\",\n        \"description\": \"\"\n      }\n    },\n    {\n      \"column\": \"Family Income\",\n      \"properties\": {\n        \"dtype\": \"category\",\n        \"num_unique_values\": 6,\n        \"samples\": [\n          \"3\\u00966L\",\n          \"6\\u009610L\"\n        ],\n        \"semantic_type\": \"\",\n        \"description\": \"\"\n      }\n    },\n    {\n      \"column\": \"Scholarship\",\n      \"properties\": {\n        \"dtype\": \"category\",\n        \"num_unique_values\": 14,\n        \"samples\": [\n          \"Yes (?11000)\",\n          \"Yes (?16000)\"\n        ],\n        \"semantic_type\": \"\",\n        \"description\": \"\"\n      }\n    },\n    {\n      \"column\": \"Loan Type\",\n      \"properties\": {\n        \"dtype\": \"category\",\n        \"num_unique_values\": 4,\n        \"samples\": [\n          \"No\",\n          \"no\"\n        ],\n        \"semantic_type\": \"\",\n        \"description\": \"\"\n      }\n    },\n    {\n      \"column\": \"Bank Account\",\n      \"properties\": {\n        \"dtype\": \"category\",\n        \"num_unique_values\": 4,\n        \"samples\": [\n          \"Student\",\n          \"student\"\n        ],\n        \"semantic_type\": \"\",\n        \"description\": \"\"\n      }\n    },\n    {\n      \"column\": \"Subscriptions\",\n      \"properties\": {\n        \"dtype\": \"category\",\n        \"num_unique_values\": 12,\n        \"samples\": [\n          \"amazon,gym\",\n          \"Spotify\"\n        ],\n        \"semantic_type\": \"\",\n        \"description\": \"\"\n      }\n    },\n    {\n      \"column\": \"Food Spend (\\u00e2\\u0082\\u00b9)\",\n      \"properties\": {\n        \"dtype\": \"number\",\n        \"std\": 619.0077555242467,\n        \"min\": 500.0,\n        \"max\": 2500.0,\n        \"num_unique_values\": 33,\n        \"samples\": [\n          1550.0,\n          750.0\n        ],\n        \"semantic_type\": \"\",\n        \"description\": \"\"\n      }\n    },\n    {\n      \"column\": \"Monthly Expenses (\\u00e2\\u0082\\u00b9)\",\n      \"properties\": {\n        \"dtype\": \"number\",\n        \"std\": 2308.2003826076384,\n        \"min\": 2000.0,\n        \"max\": 12000.0,\n        \"num_unique_values\": 48,\n        \"samples\": [\n          8700.0,\n          10400.0\n        ],\n        \"semantic_type\": \"\",\n        \"description\": \"\"\n      }\n    },\n    {\n      \"column\": \"Savings Pattern\",\n      \"properties\": {\n        \"dtype\": \"category\",\n        \"num_unique_values\": 4,\n        \"samples\": [\n          \"Occasional\",\n          \"Ocassionally\"\n        ],\n        \"semantic_type\": \"\",\n        \"description\": \"\"\n      }\n    }\n  ]\n}"
            }
          },
          "metadata": {},
          "execution_count": 1
        }
      ],
      "source": [
        "import pandas as pd\n",
        "\n",
        "file_path = \"/content/drive/MyDrive/Digital Credit Scoring /Datasheet for DS.csv\"\n",
        "\n",
        "# Try latin1 first\n",
        "df = pd.read_csv(file_path, encoding=\"latin1\")\n",
        "\n",
        "print(\"Rows:\", df.shape[0], \"| Columns:\", df.shape[1])\n",
        "df.head()"
      ]
    },
    {
      "cell_type": "markdown",
      "source": [
        "# Cleaning and Mapping"
      ],
      "metadata": {
        "id": "vLw47YWQtluZ"
      }
    },
    {
      "cell_type": "markdown",
      "source": [
        "Clean column names"
      ],
      "metadata": {
        "id": "vNiWMExgMBxY"
      }
    },
    {
      "cell_type": "code",
      "source": [
        "# Clean column names safely\n",
        "df.columns = df.columns.str.strip().str.replace(r\"[^\\w\\s]\", \"\", regex=True).str.replace(\" \", \"_\")\n",
        "\n",
        "print(df.columns.tolist())"
      ],
      "metadata": {
        "colab": {
          "base_uri": "https://localhost:8080/"
        },
        "id": "18-ONlBLstmA",
        "outputId": "15e412be-d0d9-4e10-9958-112a091d9c60"
      },
      "execution_count": 2,
      "outputs": [
        {
          "output_type": "stream",
          "name": "stdout",
          "text": [
            "['Name', 'Age', 'Gender', 'City', 'Degree', 'CGPA', 'Internship', 'Family_Income', 'Scholarship', 'Loan_Type', 'Bank_Account', 'Subscriptions', 'Food_Spend_â¹', 'Monthly_Expenses_â¹', 'Savings_Pattern']\n"
          ]
        }
      ]
    },
    {
      "cell_type": "markdown",
      "source": [
        "Fix Family income mapping"
      ],
      "metadata": {
        "id": "DHlg3TkzMLHy"
      }
    },
    {
      "cell_type": "code",
      "source": [
        "income_map = {\n",
        "    \"<1L\": 0.5e5, \"1-3L\": 2e5, \"1–3L\": 2e5, \"13L\": 2e5,\n",
        "    \"3-6L\": 4.5e5, \"3–6L\": 4.5e5, \"36L\": 4.5e5,\n",
        "    \"6-10L\": 8e5, \"6–10L\": 8e5, \"610L\": 8e5,\n",
        "    \"10-15L\": 12.5e5, \"10–15L\": 12.5e5, \"1015L\": 12.5e5,\n",
        "    \"15-20L\": 17.5e5, \"15–20L\": 17.5e5, \"1520L\": 17.5e5,\n",
        "    \">20L\": 22.5e5\n",
        "}\n",
        "df[\"Family_Income_Clean\"] = df[\"Family_Income\"].map(income_map)"
      ],
      "metadata": {
        "id": "O7xNNjG1tqGT"
      },
      "execution_count": 3,
      "outputs": []
    },
    {
      "cell_type": "markdown",
      "source": [
        "Scholarship"
      ],
      "metadata": {
        "id": "QpUHc8NSMUZx"
      }
    },
    {
      "cell_type": "code",
      "source": [
        "import re\n",
        "\n",
        "def parse_scholarship(x):\n",
        "    if pd.isna(x) or str(x).strip() == \"No\":\n",
        "        return 0\n",
        "    amt = re.findall(r\"\\d+\", str(x).replace(\",\", \"\"))\n",
        "    return int(amt[0]) if amt else 0\n",
        "\n",
        "df[\"Scholarship_Amount\"] = df[\"Scholarship\"].apply(parse_scholarship)\n",
        "df[\"Has_Scholarship\"] = (df[\"Scholarship_Amount\"] > 0).astype(int)"
      ],
      "metadata": {
        "id": "EGZFW4EmttGl"
      },
      "execution_count": 4,
      "outputs": []
    },
    {
      "cell_type": "markdown",
      "source": [
        "Internship"
      ],
      "metadata": {
        "id": "71x7hD9YMWxU"
      }
    },
    {
      "cell_type": "code",
      "source": [
        "def parse_internship(x):\n",
        "    if \"No\" in str(x):\n",
        "        return 0\n",
        "    m = re.findall(r\"\\d+\", str(x))\n",
        "    return int(m[0]) if m else 0\n",
        "\n",
        "df[\"Internship_Months\"] = df[\"Internship\"].apply(parse_internship)\n",
        "df[\"Has_Internship\"] = (df[\"Internship_Months\"] > 0).astype(int)"
      ],
      "metadata": {
        "id": "gBkJGhMXtu2L"
      },
      "execution_count": 5,
      "outputs": []
    },
    {
      "cell_type": "code",
      "source": [
        "df[\"Has_Loan\"] = df[\"Loan_Type\"].apply(lambda x: 0 if str(x)==\"No\" else 1)"
      ],
      "metadata": {
        "id": "2BmrIEOLtwbp"
      },
      "execution_count": 6,
      "outputs": []
    },
    {
      "cell_type": "code",
      "source": [
        "df[\"Subscriptions_Count\"] = df[\"Subscriptions\"].fillna(\"\").apply(lambda x: len(str(x).split(\",\")))"
      ],
      "metadata": {
        "id": "wrAir8DUtxum"
      },
      "execution_count": 7,
      "outputs": []
    },
    {
      "cell_type": "code",
      "source": [
        "savings_map = {\"Regular\": 2, \"Occasional\": 1}\n",
        "df[\"Savings_Score\"] = df[\"Savings_Pattern\"].map(savings_map).fillna(0)"
      ],
      "metadata": {
        "id": "pXmD4QU5tzP2"
      },
      "execution_count": 8,
      "outputs": []
    },
    {
      "cell_type": "markdown",
      "source": [
        "Final Scoring"
      ],
      "metadata": {
        "id": "5r6oV01kMlFO"
      }
    },
    {
      "cell_type": "code",
      "source": [
        "def compute_score(row):\n",
        "    score = 0\n",
        "\n",
        "    # CGPA\n",
        "    if row[\"CGPA\"] >= 9: score += 20\n",
        "    elif row[\"CGPA\"] >= 8: score += 15\n",
        "    elif row[\"CGPA\"] >= 7: score += 10\n",
        "    elif row[\"CGPA\"] >= 6: score += 5\n",
        "\n",
        "    # Family Income\n",
        "    if row[\"Family_Income_Clean\"] >= 1000000: score += 20\n",
        "    elif row[\"Family_Income_Clean\"] >= 600000: score += 15\n",
        "    elif row[\"Family_Income_Clean\"] >= 300000: score += 10\n",
        "    else: score += 5\n",
        "\n",
        "    # Loan\n",
        "    if row[\"Has_Loan\"] == 0: score += 15\n",
        "    elif \"Education\" in str(row[\"Loan_Type\"]): score += 10\n",
        "    else: score += 5\n",
        "\n",
        "    # Savings Pattern\n",
        "    score += row[\"Savings_Score\"] * 5\n",
        "\n",
        "    # Subscriptions\n",
        "    if row[\"Subscriptions_Count\"] <= 1: score += 10\n",
        "    elif row[\"Subscriptions_Count\"] == 2: score += 5\n",
        "\n",
        "    # Expenses vs Income\n",
        "    try:\n",
        "        expenses = float(row.get(\"Food_Spend_\",0)) + float(row.get(\"Monthly_Expenses_\",0))\n",
        "    except:\n",
        "        expenses = 0\n",
        "    ratio = expenses / (row[\"Family_Income_Clean\"]+1)\n",
        "    if ratio < 0.3: score += 15\n",
        "    elif ratio < 0.6: score += 10\n",
        "    else: score += 5\n",
        "\n",
        "    # Internship\n",
        "    if row[\"Has_Internship\"]: score += 5\n",
        "\n",
        "    # Scholarship\n",
        "    if row[\"Has_Scholarship\"]: score += 5\n",
        "\n",
        "    return score\n",
        "\n",
        "df[\"Credit_Score\"] = df.apply(compute_score, axis=1)"
      ],
      "metadata": {
        "id": "pP4AoxASt0uv"
      },
      "execution_count": 9,
      "outputs": []
    },
    {
      "cell_type": "code",
      "source": [
        "df[[\"Name\",\"CGPA\",\"Family_Income\",\"Loan_Type\",\"Savings_Pattern\",\n",
        "    \"Subscriptions\",\"Has_Internship\",\"Has_Scholarship\",\"Credit_Score\"]].head(10)"
      ],
      "metadata": {
        "colab": {
          "base_uri": "https://localhost:8080/",
          "height": 363
        },
        "id": "ryaZ4sVWt3PD",
        "outputId": "c7be410f-cb1c-4968-a1c7-b72f17c8dc30"
      },
      "execution_count": 10,
      "outputs": [
        {
          "output_type": "execute_result",
          "data": {
            "text/plain": [
              "             Name  CGPA Family_Income       Loan_Type Savings_Pattern  \\\n",
              "0    Aarav Sharma   8.2          36L  Education Loan         Regular   \n",
              "1     Sneha Patil   7.6         610L              No      Occasional   \n",
              "2  Rohan Deshmukh   6.9          13L              No             NaN   \n",
              "3     Meera Joshi   9.1        1015L   Personal Loan         Regular   \n",
              "4       Yash Kale   7.4           <1L              No      Occasional   \n",
              "5      Priya More   8.0          36L              No         Regular   \n",
              "6    Aditya Pawar   7.2          13L              No      Occasional   \n",
              "7     Neha Jadhav   6.8           <1L              No             NaN   \n",
              "8    Kunal Shinde   8.5         610L   Personal Loan         Regular   \n",
              "9  Aishwarya Rane   7.9          36L              No         Regular   \n",
              "\n",
              "      Subscriptions  Has_Internship  Has_Scholarship  Credit_Score  \n",
              "0      Netflix, Gym               1                1          75.0  \n",
              "1      Spotify, OTT               1                0          70.0  \n",
              "2          OTT, Gym               0                1          50.0  \n",
              "3  Netflix, Spotify               1                0          80.0  \n",
              "4               OTT               0                1          65.0  \n",
              "5      Netflix, Gym               1                0          75.0  \n",
              "6      OTT, Spotify               1                1          65.0  \n",
              "7               Gym               0                1          55.0  \n",
              "8      Netflix, OTT               1                0          70.0  \n",
              "9      Spotify, Gym               1                1          75.0  "
            ],
            "text/html": [
              "\n",
              "  <div id=\"df-a1662a85-7181-4d18-aa42-f6c95bdb48cb\" class=\"colab-df-container\">\n",
              "    <div>\n",
              "<style scoped>\n",
              "    .dataframe tbody tr th:only-of-type {\n",
              "        vertical-align: middle;\n",
              "    }\n",
              "\n",
              "    .dataframe tbody tr th {\n",
              "        vertical-align: top;\n",
              "    }\n",
              "\n",
              "    .dataframe thead th {\n",
              "        text-align: right;\n",
              "    }\n",
              "</style>\n",
              "<table border=\"1\" class=\"dataframe\">\n",
              "  <thead>\n",
              "    <tr style=\"text-align: right;\">\n",
              "      <th></th>\n",
              "      <th>Name</th>\n",
              "      <th>CGPA</th>\n",
              "      <th>Family_Income</th>\n",
              "      <th>Loan_Type</th>\n",
              "      <th>Savings_Pattern</th>\n",
              "      <th>Subscriptions</th>\n",
              "      <th>Has_Internship</th>\n",
              "      <th>Has_Scholarship</th>\n",
              "      <th>Credit_Score</th>\n",
              "    </tr>\n",
              "  </thead>\n",
              "  <tbody>\n",
              "    <tr>\n",
              "      <th>0</th>\n",
              "      <td>Aarav Sharma</td>\n",
              "      <td>8.2</td>\n",
              "      <td>36L</td>\n",
              "      <td>Education Loan</td>\n",
              "      <td>Regular</td>\n",
              "      <td>Netflix, Gym</td>\n",
              "      <td>1</td>\n",
              "      <td>1</td>\n",
              "      <td>75.0</td>\n",
              "    </tr>\n",
              "    <tr>\n",
              "      <th>1</th>\n",
              "      <td>Sneha Patil</td>\n",
              "      <td>7.6</td>\n",
              "      <td>610L</td>\n",
              "      <td>No</td>\n",
              "      <td>Occasional</td>\n",
              "      <td>Spotify, OTT</td>\n",
              "      <td>1</td>\n",
              "      <td>0</td>\n",
              "      <td>70.0</td>\n",
              "    </tr>\n",
              "    <tr>\n",
              "      <th>2</th>\n",
              "      <td>Rohan Deshmukh</td>\n",
              "      <td>6.9</td>\n",
              "      <td>13L</td>\n",
              "      <td>No</td>\n",
              "      <td>NaN</td>\n",
              "      <td>OTT, Gym</td>\n",
              "      <td>0</td>\n",
              "      <td>1</td>\n",
              "      <td>50.0</td>\n",
              "    </tr>\n",
              "    <tr>\n",
              "      <th>3</th>\n",
              "      <td>Meera Joshi</td>\n",
              "      <td>9.1</td>\n",
              "      <td>1015L</td>\n",
              "      <td>Personal Loan</td>\n",
              "      <td>Regular</td>\n",
              "      <td>Netflix, Spotify</td>\n",
              "      <td>1</td>\n",
              "      <td>0</td>\n",
              "      <td>80.0</td>\n",
              "    </tr>\n",
              "    <tr>\n",
              "      <th>4</th>\n",
              "      <td>Yash Kale</td>\n",
              "      <td>7.4</td>\n",
              "      <td>&lt;1L</td>\n",
              "      <td>No</td>\n",
              "      <td>Occasional</td>\n",
              "      <td>OTT</td>\n",
              "      <td>0</td>\n",
              "      <td>1</td>\n",
              "      <td>65.0</td>\n",
              "    </tr>\n",
              "    <tr>\n",
              "      <th>5</th>\n",
              "      <td>Priya More</td>\n",
              "      <td>8.0</td>\n",
              "      <td>36L</td>\n",
              "      <td>No</td>\n",
              "      <td>Regular</td>\n",
              "      <td>Netflix, Gym</td>\n",
              "      <td>1</td>\n",
              "      <td>0</td>\n",
              "      <td>75.0</td>\n",
              "    </tr>\n",
              "    <tr>\n",
              "      <th>6</th>\n",
              "      <td>Aditya Pawar</td>\n",
              "      <td>7.2</td>\n",
              "      <td>13L</td>\n",
              "      <td>No</td>\n",
              "      <td>Occasional</td>\n",
              "      <td>OTT, Spotify</td>\n",
              "      <td>1</td>\n",
              "      <td>1</td>\n",
              "      <td>65.0</td>\n",
              "    </tr>\n",
              "    <tr>\n",
              "      <th>7</th>\n",
              "      <td>Neha Jadhav</td>\n",
              "      <td>6.8</td>\n",
              "      <td>&lt;1L</td>\n",
              "      <td>No</td>\n",
              "      <td>NaN</td>\n",
              "      <td>Gym</td>\n",
              "      <td>0</td>\n",
              "      <td>1</td>\n",
              "      <td>55.0</td>\n",
              "    </tr>\n",
              "    <tr>\n",
              "      <th>8</th>\n",
              "      <td>Kunal Shinde</td>\n",
              "      <td>8.5</td>\n",
              "      <td>610L</td>\n",
              "      <td>Personal Loan</td>\n",
              "      <td>Regular</td>\n",
              "      <td>Netflix, OTT</td>\n",
              "      <td>1</td>\n",
              "      <td>0</td>\n",
              "      <td>70.0</td>\n",
              "    </tr>\n",
              "    <tr>\n",
              "      <th>9</th>\n",
              "      <td>Aishwarya Rane</td>\n",
              "      <td>7.9</td>\n",
              "      <td>36L</td>\n",
              "      <td>No</td>\n",
              "      <td>Regular</td>\n",
              "      <td>Spotify, Gym</td>\n",
              "      <td>1</td>\n",
              "      <td>1</td>\n",
              "      <td>75.0</td>\n",
              "    </tr>\n",
              "  </tbody>\n",
              "</table>\n",
              "</div>\n",
              "    <div class=\"colab-df-buttons\">\n",
              "\n",
              "  <div class=\"colab-df-container\">\n",
              "    <button class=\"colab-df-convert\" onclick=\"convertToInteractive('df-a1662a85-7181-4d18-aa42-f6c95bdb48cb')\"\n",
              "            title=\"Convert this dataframe to an interactive table.\"\n",
              "            style=\"display:none;\">\n",
              "\n",
              "  <svg xmlns=\"http://www.w3.org/2000/svg\" height=\"24px\" viewBox=\"0 -960 960 960\">\n",
              "    <path d=\"M120-120v-720h720v720H120Zm60-500h600v-160H180v160Zm220 220h160v-160H400v160Zm0 220h160v-160H400v160ZM180-400h160v-160H180v160Zm440 0h160v-160H620v160ZM180-180h160v-160H180v160Zm440 0h160v-160H620v160Z\"/>\n",
              "  </svg>\n",
              "    </button>\n",
              "\n",
              "  <style>\n",
              "    .colab-df-container {\n",
              "      display:flex;\n",
              "      gap: 12px;\n",
              "    }\n",
              "\n",
              "    .colab-df-convert {\n",
              "      background-color: #E8F0FE;\n",
              "      border: none;\n",
              "      border-radius: 50%;\n",
              "      cursor: pointer;\n",
              "      display: none;\n",
              "      fill: #1967D2;\n",
              "      height: 32px;\n",
              "      padding: 0 0 0 0;\n",
              "      width: 32px;\n",
              "    }\n",
              "\n",
              "    .colab-df-convert:hover {\n",
              "      background-color: #E2EBFA;\n",
              "      box-shadow: 0px 1px 2px rgba(60, 64, 67, 0.3), 0px 1px 3px 1px rgba(60, 64, 67, 0.15);\n",
              "      fill: #174EA6;\n",
              "    }\n",
              "\n",
              "    .colab-df-buttons div {\n",
              "      margin-bottom: 4px;\n",
              "    }\n",
              "\n",
              "    [theme=dark] .colab-df-convert {\n",
              "      background-color: #3B4455;\n",
              "      fill: #D2E3FC;\n",
              "    }\n",
              "\n",
              "    [theme=dark] .colab-df-convert:hover {\n",
              "      background-color: #434B5C;\n",
              "      box-shadow: 0px 1px 3px 1px rgba(0, 0, 0, 0.15);\n",
              "      filter: drop-shadow(0px 1px 2px rgba(0, 0, 0, 0.3));\n",
              "      fill: #FFFFFF;\n",
              "    }\n",
              "  </style>\n",
              "\n",
              "    <script>\n",
              "      const buttonEl =\n",
              "        document.querySelector('#df-a1662a85-7181-4d18-aa42-f6c95bdb48cb button.colab-df-convert');\n",
              "      buttonEl.style.display =\n",
              "        google.colab.kernel.accessAllowed ? 'block' : 'none';\n",
              "\n",
              "      async function convertToInteractive(key) {\n",
              "        const element = document.querySelector('#df-a1662a85-7181-4d18-aa42-f6c95bdb48cb');\n",
              "        const dataTable =\n",
              "          await google.colab.kernel.invokeFunction('convertToInteractive',\n",
              "                                                    [key], {});\n",
              "        if (!dataTable) return;\n",
              "\n",
              "        const docLinkHtml = 'Like what you see? Visit the ' +\n",
              "          '<a target=\"_blank\" href=https://colab.research.google.com/notebooks/data_table.ipynb>data table notebook</a>'\n",
              "          + ' to learn more about interactive tables.';\n",
              "        element.innerHTML = '';\n",
              "        dataTable['output_type'] = 'display_data';\n",
              "        await google.colab.output.renderOutput(dataTable, element);\n",
              "        const docLink = document.createElement('div');\n",
              "        docLink.innerHTML = docLinkHtml;\n",
              "        element.appendChild(docLink);\n",
              "      }\n",
              "    </script>\n",
              "  </div>\n",
              "\n",
              "\n",
              "    <div id=\"df-b01a9a6e-cac8-43e4-a232-8faaaf899c23\">\n",
              "      <button class=\"colab-df-quickchart\" onclick=\"quickchart('df-b01a9a6e-cac8-43e4-a232-8faaaf899c23')\"\n",
              "                title=\"Suggest charts\"\n",
              "                style=\"display:none;\">\n",
              "\n",
              "<svg xmlns=\"http://www.w3.org/2000/svg\" height=\"24px\"viewBox=\"0 0 24 24\"\n",
              "     width=\"24px\">\n",
              "    <g>\n",
              "        <path d=\"M19 3H5c-1.1 0-2 .9-2 2v14c0 1.1.9 2 2 2h14c1.1 0 2-.9 2-2V5c0-1.1-.9-2-2-2zM9 17H7v-7h2v7zm4 0h-2V7h2v10zm4 0h-2v-4h2v4z\"/>\n",
              "    </g>\n",
              "</svg>\n",
              "      </button>\n",
              "\n",
              "<style>\n",
              "  .colab-df-quickchart {\n",
              "      --bg-color: #E8F0FE;\n",
              "      --fill-color: #1967D2;\n",
              "      --hover-bg-color: #E2EBFA;\n",
              "      --hover-fill-color: #174EA6;\n",
              "      --disabled-fill-color: #AAA;\n",
              "      --disabled-bg-color: #DDD;\n",
              "  }\n",
              "\n",
              "  [theme=dark] .colab-df-quickchart {\n",
              "      --bg-color: #3B4455;\n",
              "      --fill-color: #D2E3FC;\n",
              "      --hover-bg-color: #434B5C;\n",
              "      --hover-fill-color: #FFFFFF;\n",
              "      --disabled-bg-color: #3B4455;\n",
              "      --disabled-fill-color: #666;\n",
              "  }\n",
              "\n",
              "  .colab-df-quickchart {\n",
              "    background-color: var(--bg-color);\n",
              "    border: none;\n",
              "    border-radius: 50%;\n",
              "    cursor: pointer;\n",
              "    display: none;\n",
              "    fill: var(--fill-color);\n",
              "    height: 32px;\n",
              "    padding: 0;\n",
              "    width: 32px;\n",
              "  }\n",
              "\n",
              "  .colab-df-quickchart:hover {\n",
              "    background-color: var(--hover-bg-color);\n",
              "    box-shadow: 0 1px 2px rgba(60, 64, 67, 0.3), 0 1px 3px 1px rgba(60, 64, 67, 0.15);\n",
              "    fill: var(--button-hover-fill-color);\n",
              "  }\n",
              "\n",
              "  .colab-df-quickchart-complete:disabled,\n",
              "  .colab-df-quickchart-complete:disabled:hover {\n",
              "    background-color: var(--disabled-bg-color);\n",
              "    fill: var(--disabled-fill-color);\n",
              "    box-shadow: none;\n",
              "  }\n",
              "\n",
              "  .colab-df-spinner {\n",
              "    border: 2px solid var(--fill-color);\n",
              "    border-color: transparent;\n",
              "    border-bottom-color: var(--fill-color);\n",
              "    animation:\n",
              "      spin 1s steps(1) infinite;\n",
              "  }\n",
              "\n",
              "  @keyframes spin {\n",
              "    0% {\n",
              "      border-color: transparent;\n",
              "      border-bottom-color: var(--fill-color);\n",
              "      border-left-color: var(--fill-color);\n",
              "    }\n",
              "    20% {\n",
              "      border-color: transparent;\n",
              "      border-left-color: var(--fill-color);\n",
              "      border-top-color: var(--fill-color);\n",
              "    }\n",
              "    30% {\n",
              "      border-color: transparent;\n",
              "      border-left-color: var(--fill-color);\n",
              "      border-top-color: var(--fill-color);\n",
              "      border-right-color: var(--fill-color);\n",
              "    }\n",
              "    40% {\n",
              "      border-color: transparent;\n",
              "      border-right-color: var(--fill-color);\n",
              "      border-top-color: var(--fill-color);\n",
              "    }\n",
              "    60% {\n",
              "      border-color: transparent;\n",
              "      border-right-color: var(--fill-color);\n",
              "    }\n",
              "    80% {\n",
              "      border-color: transparent;\n",
              "      border-right-color: var(--fill-color);\n",
              "      border-bottom-color: var(--fill-color);\n",
              "    }\n",
              "    90% {\n",
              "      border-color: transparent;\n",
              "      border-bottom-color: var(--fill-color);\n",
              "    }\n",
              "  }\n",
              "</style>\n",
              "\n",
              "      <script>\n",
              "        async function quickchart(key) {\n",
              "          const quickchartButtonEl =\n",
              "            document.querySelector('#' + key + ' button');\n",
              "          quickchartButtonEl.disabled = true;  // To prevent multiple clicks.\n",
              "          quickchartButtonEl.classList.add('colab-df-spinner');\n",
              "          try {\n",
              "            const charts = await google.colab.kernel.invokeFunction(\n",
              "                'suggestCharts', [key], {});\n",
              "          } catch (error) {\n",
              "            console.error('Error during call to suggestCharts:', error);\n",
              "          }\n",
              "          quickchartButtonEl.classList.remove('colab-df-spinner');\n",
              "          quickchartButtonEl.classList.add('colab-df-quickchart-complete');\n",
              "        }\n",
              "        (() => {\n",
              "          let quickchartButtonEl =\n",
              "            document.querySelector('#df-b01a9a6e-cac8-43e4-a232-8faaaf899c23 button');\n",
              "          quickchartButtonEl.style.display =\n",
              "            google.colab.kernel.accessAllowed ? 'block' : 'none';\n",
              "        })();\n",
              "      </script>\n",
              "    </div>\n",
              "\n",
              "    </div>\n",
              "  </div>\n"
            ],
            "application/vnd.google.colaboratory.intrinsic+json": {
              "type": "dataframe",
              "summary": "{\n  \"name\": \"    \\\"Subscriptions\\\",\\\"Has_Internship\\\",\\\"Has_Scholarship\\\",\\\"Credit_Score\\\"]]\",\n  \"rows\": 10,\n  \"fields\": [\n    {\n      \"column\": \"Name\",\n      \"properties\": {\n        \"dtype\": \"string\",\n        \"num_unique_values\": 10,\n        \"samples\": [\n          \"Kunal Shinde\",\n          \"Sneha Patil\",\n          \"Priya More\"\n        ],\n        \"semantic_type\": \"\",\n        \"description\": \"\"\n      }\n    },\n    {\n      \"column\": \"CGPA\",\n      \"properties\": {\n        \"dtype\": \"number\",\n        \"std\": 0.7260241808033056,\n        \"min\": 6.8,\n        \"max\": 9.1,\n        \"num_unique_values\": 10,\n        \"samples\": [\n          8.5,\n          7.6,\n          8.0\n        ],\n        \"semantic_type\": \"\",\n        \"description\": \"\"\n      }\n    },\n    {\n      \"column\": \"Family_Income\",\n      \"properties\": {\n        \"dtype\": \"string\",\n        \"num_unique_values\": 5,\n        \"samples\": [\n          \"6\\u009610L\",\n          \"<1L\",\n          \"1\\u00963L\"\n        ],\n        \"semantic_type\": \"\",\n        \"description\": \"\"\n      }\n    },\n    {\n      \"column\": \"Loan_Type\",\n      \"properties\": {\n        \"dtype\": \"category\",\n        \"num_unique_values\": 3,\n        \"samples\": [\n          \"Education Loan\",\n          \"No\",\n          \"Personal Loan\"\n        ],\n        \"semantic_type\": \"\",\n        \"description\": \"\"\n      }\n    },\n    {\n      \"column\": \"Savings_Pattern\",\n      \"properties\": {\n        \"dtype\": \"category\",\n        \"num_unique_values\": 2,\n        \"samples\": [\n          \"Occasional\",\n          \"Regular\"\n        ],\n        \"semantic_type\": \"\",\n        \"description\": \"\"\n      }\n    },\n    {\n      \"column\": \"Subscriptions\",\n      \"properties\": {\n        \"dtype\": \"string\",\n        \"num_unique_values\": 9,\n        \"samples\": [\n          \"Netflix, OTT\",\n          \"Spotify, OTT\"\n        ],\n        \"semantic_type\": \"\",\n        \"description\": \"\"\n      }\n    },\n    {\n      \"column\": \"Has_Internship\",\n      \"properties\": {\n        \"dtype\": \"number\",\n        \"std\": 0,\n        \"min\": 0,\n        \"max\": 1,\n        \"num_unique_values\": 2,\n        \"samples\": [\n          0,\n          1\n        ],\n        \"semantic_type\": \"\",\n        \"description\": \"\"\n      }\n    },\n    {\n      \"column\": \"Has_Scholarship\",\n      \"properties\": {\n        \"dtype\": \"number\",\n        \"std\": 0,\n        \"min\": 0,\n        \"max\": 1,\n        \"num_unique_values\": 2,\n        \"samples\": [\n          0,\n          1\n        ],\n        \"semantic_type\": \"\",\n        \"description\": \"\"\n      }\n    },\n    {\n      \"column\": \"Credit_Score\",\n      \"properties\": {\n        \"dtype\": \"number\",\n        \"std\": 9.486832980505138,\n        \"min\": 50.0,\n        \"max\": 80.0,\n        \"num_unique_values\": 6,\n        \"samples\": [\n          75.0,\n          70.0\n        ],\n        \"semantic_type\": \"\",\n        \"description\": \"\"\n      }\n    }\n  ]\n}"
            }
          },
          "metadata": {},
          "execution_count": 10
        }
      ]
    },
    {
      "cell_type": "markdown",
      "source": [
        "# Modelling"
      ],
      "metadata": {
        "id": "LfZ_QlwkM-wY"
      }
    },
    {
      "cell_type": "markdown",
      "source": [
        "Define Risk Bucket"
      ],
      "metadata": {
        "id": "Ez6jQuveNCzO"
      }
    },
    {
      "cell_type": "code",
      "source": [
        "def risk_bucket(score):\n",
        "    if score <= 50:\n",
        "        return \"High Risk\"\n",
        "    elif score <= 70:\n",
        "        return \"Medium Risk\"\n",
        "    else:\n",
        "        return \"Low Risk\"\n",
        "\n",
        "df[\"Risk_Bucket\"] = df[\"Credit_Score\"].apply(risk_bucket)\n",
        "print(df[\"Risk_Bucket\"].value_counts())"
      ],
      "metadata": {
        "colab": {
          "base_uri": "https://localhost:8080/"
        },
        "id": "xmw3GSjivaRO",
        "outputId": "9f99eb18-9597-449f-fa9a-3338c5e7173f"
      },
      "execution_count": 11,
      "outputs": [
        {
          "output_type": "stream",
          "name": "stdout",
          "text": [
            "Risk_Bucket\n",
            "Medium Risk    524\n",
            "Low Risk       229\n",
            "High Risk       47\n",
            "Name: count, dtype: int64\n"
          ]
        }
      ]
    },
    {
      "cell_type": "markdown",
      "source": [
        "Renaming Columns"
      ],
      "metadata": {
        "id": "ppQF3UchNHuk"
      }
    },
    {
      "cell_type": "code",
      "source": [
        "df = df.rename(columns={\n",
        "    \"Food_Spend_â¹\": \"Food_Spend\",\n",
        "    \"Monthly_Expenses_â¹\": \"Monthly_Expenses\"\n",
        "})\n",
        "\n",
        "print(df.columns.tolist())"
      ],
      "metadata": {
        "colab": {
          "base_uri": "https://localhost:8080/"
        },
        "id": "24GJmwsHNFsm",
        "outputId": "ff5df403-c1a9-44ed-d93b-f0447e0f5260"
      },
      "execution_count": 12,
      "outputs": [
        {
          "output_type": "stream",
          "name": "stdout",
          "text": [
            "['Name', 'Age', 'Gender', 'City', 'Degree', 'CGPA', 'Internship', 'Family_Income', 'Scholarship', 'Loan_Type', 'Bank_Account', 'Subscriptions', 'Food_Spend', 'Monthly_Expenses', 'Savings_Pattern', 'Family_Income_Clean', 'Scholarship_Amount', 'Has_Scholarship', 'Internship_Months', 'Has_Internship', 'Has_Loan', 'Subscriptions_Count', 'Savings_Score', 'Credit_Score', 'Risk_Bucket']\n"
          ]
        }
      ]
    },
    {
      "cell_type": "markdown",
      "source": [
        "Select Feature and Target"
      ],
      "metadata": {
        "id": "yVZ114-JNxO-"
      }
    },
    {
      "cell_type": "code",
      "source": [
        "features = [\n",
        "    \"Age\", \"CGPA\", \"Family_Income_Clean\", \"Has_Loan\",\n",
        "    \"Savings_Score\", \"Subscriptions_Count\", \"Food_Spend\",\n",
        "    \"Monthly_Expenses\", \"Has_Internship\", \"Has_Scholarship\"\n",
        "]\n",
        "\n",
        "X = df[features].fillna(0)\n",
        "y = df[\"Risk_Bucket\"]"
      ],
      "metadata": {
        "id": "6JX499KcNLKu"
      },
      "execution_count": 13,
      "outputs": []
    },
    {
      "cell_type": "markdown",
      "source": [
        "Train and Test"
      ],
      "metadata": {
        "id": "t1i7iBFQNzlb"
      }
    },
    {
      "cell_type": "code",
      "source": [
        "from sklearn.model_selection import train_test_split\n",
        "\n",
        "X_train, X_test, y_train, y_test = train_test_split(\n",
        "    X, y, test_size=0.2, random_state=42, stratify=y\n",
        ")\n",
        "\n",
        "print(\"Train size:\", X_train.shape, \" Test size:\", X_test.shape)"
      ],
      "metadata": {
        "colab": {
          "base_uri": "https://localhost:8080/"
        },
        "id": "gV_3N6DdNnhb",
        "outputId": "1688bb3d-672c-42a8-a9cc-15f7c607779c"
      },
      "execution_count": 14,
      "outputs": [
        {
          "output_type": "stream",
          "name": "stdout",
          "text": [
            "Train size: (640, 10)  Test size: (160, 10)\n"
          ]
        }
      ]
    },
    {
      "cell_type": "markdown",
      "source": [
        "Train Models"
      ],
      "metadata": {
        "id": "YhVh8whhN61T"
      }
    },
    {
      "cell_type": "code",
      "source": [
        "from sklearn.preprocessing import StandardScaler\n",
        "from sklearn.pipeline import Pipeline\n",
        "from sklearn.linear_model import LogisticRegression\n",
        "from sklearn.ensemble import RandomForestClassifier\n",
        "from sklearn.metrics import accuracy_score, classification_report\n",
        "\n",
        "# Logistic Regression with Scaling\n",
        "lr = Pipeline([\n",
        "    (\"scaler\", StandardScaler()),\n",
        "    (\"model\", LogisticRegression(max_iter=5000, random_state=42))\n",
        "])\n",
        "lr.fit(X_train, y_train)\n",
        "y_pred_lr = lr.predict(X_test)\n",
        "\n",
        "print(\"Logistic Regression\")\n",
        "print(\"Accuracy:\", accuracy_score(y_test, y_pred_lr))\n",
        "print(classification_report(y_test, y_pred_lr))"
      ],
      "metadata": {
        "colab": {
          "base_uri": "https://localhost:8080/"
        },
        "id": "2w8kgiKuN3eA",
        "outputId": "76575ad2-1388-4d16-a0ca-ceb029943777"
      },
      "execution_count": 15,
      "outputs": [
        {
          "output_type": "stream",
          "name": "stdout",
          "text": [
            "Logistic Regression\n",
            "Accuracy: 0.98125\n",
            "              precision    recall  f1-score   support\n",
            "\n",
            "   High Risk       1.00      1.00      1.00         9\n",
            "    Low Risk       0.96      0.98      0.97        46\n",
            " Medium Risk       0.99      0.98      0.99       105\n",
            "\n",
            "    accuracy                           0.98       160\n",
            "   macro avg       0.98      0.99      0.98       160\n",
            "weighted avg       0.98      0.98      0.98       160\n",
            "\n"
          ]
        }
      ]
    },
    {
      "cell_type": "code",
      "source": [
        "# Random Forest\n",
        "rf = RandomForestClassifier(n_estimators=200, random_state=42)\n",
        "rf.fit(X_train, y_train)\n",
        "y_pred_rf = rf.predict(X_test)\n",
        "\n",
        "print(\"Random Forest\")\n",
        "print(\"Accuracy:\", accuracy_score(y_test, y_pred_rf))\n",
        "print(classification_report(y_test, y_pred_rf))"
      ],
      "metadata": {
        "colab": {
          "base_uri": "https://localhost:8080/"
        },
        "id": "BMdA2--OO9Qq",
        "outputId": "34a890cc-d7f9-4a0f-e0a3-0fccca53c63b"
      },
      "execution_count": 16,
      "outputs": [
        {
          "output_type": "stream",
          "name": "stdout",
          "text": [
            "Random Forest\n",
            "Accuracy: 0.9875\n",
            "              precision    recall  f1-score   support\n",
            "\n",
            "   High Risk       1.00      0.89      0.94         9\n",
            "    Low Risk       0.98      1.00      0.99        46\n",
            " Medium Risk       0.99      0.99      0.99       105\n",
            "\n",
            "    accuracy                           0.99       160\n",
            "   macro avg       0.99      0.96      0.97       160\n",
            "weighted avg       0.99      0.99      0.99       160\n",
            "\n"
          ]
        }
      ]
    },
    {
      "cell_type": "markdown",
      "source": [
        "Feature Importance"
      ],
      "metadata": {
        "id": "1cY0UK74N63c"
      }
    },
    {
      "cell_type": "code",
      "source": [
        "import matplotlib.pyplot as plt\n",
        "import numpy as np\n",
        "\n",
        "# Get feature importance\n",
        "importances = rf.feature_importances_\n",
        "indices = np.argsort(importances)[::-1]\n",
        "\n",
        "# Plot\n",
        "plt.figure(figsize=(8,6))\n",
        "plt.bar(range(len(features)), importances[indices], align=\"center\")\n",
        "plt.xticks(range(len(features)), [features[i] for i in indices], rotation=45)\n",
        "plt.title(\"Feature Importance (Random Forest)\")\n",
        "plt.show()\n",
        "\n",
        "# Print\n",
        "for i in indices:\n",
        "    print(f\"{features[i]}: {importances[i]:.3f}\")"
      ],
      "metadata": {
        "colab": {
          "base_uri": "https://localhost:8080/",
          "height": 820
        },
        "id": "sWtHXPP7Pfny",
        "outputId": "57a2a561-84dd-476c-eaef-d31b05f4665b"
      },
      "execution_count": 17,
      "outputs": [
        {
          "output_type": "display_data",
          "data": {
            "text/plain": [
              "<Figure size 800x600 with 1 Axes>"
            ],
            "image/png": "[encoded data removed]"
          },
          "metadata": {}
        },
        {
          "output_type": "stream",
          "name": "stdout",
          "text": [
            "CGPA: 0.222\n",
            "Family_Income_Clean: 0.183\n",
            "Food_Spend: 0.171\n",
            "Monthly_Expenses: 0.140\n",
            "Savings_Score: 0.119\n",
            "Age: 0.065\n",
            "Has_Loan: 0.038\n",
            "Has_Scholarship: 0.027\n",
            "Has_Internship: 0.020\n",
            "Subscriptions_Count: 0.014\n"
          ]
        }
      ]
    },
    {
      "cell_type": "markdown",
      "source": [
        "# SHAP"
      ],
      "metadata": {
        "id": "e3cF2wYjN665"
      }
    },
    {
      "cell_type": "code",
      "source": [
        "import shap\n",
        "\n",
        "# Initialize SHAP explainer for Random Forest\n",
        "explainer = shap.TreeExplainer(rf)\n",
        "shap_values = explainer.shap_values(X_test)\n",
        "\n",
        "# Summary Plot\n",
        "shap.summary_plot(shap_values, X_test, plot_type=\"bar\")\n",
        "\n",
        "# Detailed Summary Plot\n",
        "shap.summary_plot(shap_values, X_test)"
      ],
      "metadata": {
        "colab": {
          "base_uri": "https://localhost:8080/",
          "height": 1000
        },
        "id": "V-H5Vjl7P3ic",
        "outputId": "9cf42c84-1a18-4c45-a5c0-a500c2395ac7"
      },
      "execution_count": 18,
      "outputs": [
        {
          "output_type": "display_data",
          "data": {
            "text/plain": [
              "<Figure size 800x550 with 1 Axes>"
            ],
            "image/png": "[encoded data removed]"
          },
          "metadata": {}
        },
        {
          "output_type": "display_data",
          "data": {
            "text/plain": [
              "<Figure size 1150x660 with 3 Axes>"
            ],
            "image/png": "[encoded data removed]"
          },
          "metadata": {}
        }
      ]
    },
    {
      "cell_type": "code",
      "source": [
        "# Pick one student from the test set\n",
        "sample_idx = 5\n",
        "\n",
        "# Compute SHAP values for this student\n",
        "shap_values_row = explainer(X_test.iloc[[sample_idx]])\n",
        "\n",
        "# Get predicted class index for this student\n",
        "pred_class = np.argmax(rf.predict_proba(X_test.iloc[[sample_idx]]))\n",
        "\n",
        "# Plot waterfall for the predicted class only\n",
        "shap.plots.waterfall(shap_values_row[0, :, pred_class])"
      ],
      "metadata": {
        "colab": {
          "base_uri": "https://localhost:8080/",
          "height": 617
        },
        "id": "2YWwO7jHP96u",
        "outputId": "55ed082e-0f49-42df-945a-d8a9e90e152b"
      },
      "execution_count": 19,
      "outputs": [
        {
          "output_type": "display_data",
          "data": {
            "text/plain": [
              "<Figure size 800x650 with 3 Axes>"
            ],
            "image/png": "[encoded data removed]"
          },
          "metadata": {}
        }
      ]
    },
    {
      "cell_type": "markdown",
      "source": [
        "# Credit Scoring Calibeartion"
      ],
      "metadata": {
        "id": "J56Jr2-sQ4zH"
      }
    },
    {
      "cell_type": "code",
      "source": [
        "import numpy as np\n",
        "\n",
        "def calibrate_score(probs, classes):\n",
        "\n",
        "    # Define base scores for each bucket\n",
        "    base_scores = {\n",
        "        \"High Risk\": 300,\n",
        "        \"Medium Risk\": 575,\n",
        "        \"Low Risk\": 850\n",
        "    }\n",
        "\n",
        "    # Weighted average of base scores\n",
        "    score = 0\n",
        "    for i, c in enumerate(classes):\n",
        "        score += probs[i] * base_scores[c]\n",
        "\n",
        "    return round(score, 0)\n",
        "\n",
        "# apply to test set\n",
        "y_proba = rf.predict_proba(X_test)\n",
        "calibrated_scores = [\n",
        "    calibrate_score(probs, rf.classes_) for probs in y_proba\n",
        "]\n",
        "\n",
        "# Test DataFrame\n",
        "results = X_test.copy()\n",
        "results[\"True_Risk\"] = y_test.values\n",
        "results[\"Pred_Risk\"] = rf.predict(X_test)\n",
        "results[\"Credit_Score_300_850\"] = calibrated_scores\n",
        "\n",
        "results.head(10)"
      ],
      "metadata": {
        "colab": {
          "base_uri": "https://localhost:8080/",
          "height": 469
        },
        "id": "NQoKT_hIQHn-",
        "outputId": "9a0919db-a505-40e4-b741-4e755f408f6b"
      },
      "execution_count": 20,
      "outputs": [
        {
          "output_type": "execute_result",
          "data": {
            "text/plain": [
              "      Age  CGPA  Family_Income_Clean  Has_Loan  Savings_Score  \\\n",
              "143  21.0   7.6              50000.0         0            1.0   \n",
              "474  20.0   6.9             200000.0         0            0.0   \n",
              "255  20.0   6.7             450000.0         0            0.0   \n",
              "775   0.0   0.0             450000.0         1            0.0   \n",
              "3    23.0   9.1            1250000.0         1            2.0   \n",
              "83   20.0   6.7             450000.0         0            0.0   \n",
              "222  21.0   7.6             800000.0         0            1.0   \n",
              "545  20.0   6.6              50000.0         0            0.0   \n",
              "117  23.0   9.0             800000.0         1            2.0   \n",
              "301  22.0   8.9             800000.0         0            2.0   \n",
              "\n",
              "     Subscriptions_Count  Food_Spend  Monthly_Expenses  Has_Internship  \\\n",
              "143                    2      1200.0            7600.0               1   \n",
              "474                    2       850.0            5700.0               0   \n",
              "255                    2       800.0            5600.0               0   \n",
              "775                    1         0.0               0.0               0   \n",
              "3                      2      2500.0           12000.0               1   \n",
              "83                     2       800.0            5600.0               0   \n",
              "222                    2      1200.0            7600.0               1   \n",
              "545                    2       850.0            5500.0               0   \n",
              "117                    2      2400.0           11500.0               1   \n",
              "301                    2      2200.0           10800.0               1   \n",
              "\n",
              "     Has_Scholarship    True_Risk    Pred_Risk  Credit_Score_300_850  \n",
              "143                1  Medium Risk  Medium Risk                 575.0  \n",
              "474                1    High Risk    High Risk                 304.0  \n",
              "255                1  Medium Risk  Medium Risk                 575.0  \n",
              "775                1    High Risk    High Risk                 300.0  \n",
              "3                  0     Low Risk     Low Risk                 850.0  \n",
              "83                 1  Medium Risk  Medium Risk                 575.0  \n",
              "222                0  Medium Risk  Medium Risk                 575.0  \n",
              "545                1    High Risk  Medium Risk                 458.0  \n",
              "117                0     Low Risk     Low Risk                 850.0  \n",
              "301                0     Low Risk     Low Risk                 843.0  "
            ],
            "text/html": [
              "\n",
              "  <div id=\"df-582e0a10-8b6e-4236-9992-342e4d5aa530\" class=\"colab-df-container\">\n",
              "    <div>\n",
              "<style scoped>\n",
              "    .dataframe tbody tr th:only-of-type {\n",
              "        vertical-align: middle;\n",
              "    }\n",
              "\n",
              "    .dataframe tbody tr th {\n",
              "        vertical-align: top;\n",
              "    }\n",
              "\n",
              "    .dataframe thead th {\n",
              "        text-align: right;\n",
              "    }\n",
              "</style>\n",
              "<table border=\"1\" class=\"dataframe\">\n",
              "  <thead>\n",
              "    <tr style=\"text-align: right;\">\n",
              "      <th></th>\n",
              "      <th>Age</th>\n",
              "      <th>CGPA</th>\n",
              "      <th>Family_Income_Clean</th>\n",
              "      <th>Has_Loan</th>\n",
              "      <th>Savings_Score</th>\n",
              "      <th>Subscriptions_Count</th>\n",
              "      <th>Food_Spend</th>\n",
              "      <th>Monthly_Expenses</th>\n",
              "      <th>Has_Internship</th>\n",
              "      <th>Has_Scholarship</th>\n",
              "      <th>True_Risk</th>\n",
              "      <th>Pred_Risk</th>\n",
              "      <th>Credit_Score_300_850</th>\n",
              "    </tr>\n",
              "  </thead>\n",
              "  <tbody>\n",
              "    <tr>\n",
              "      <th>143</th>\n",
              "      <td>21.0</td>\n",
              "      <td>7.6</td>\n",
              "      <td>50000.0</td>\n",
              "      <td>0</td>\n",
              "      <td>1.0</td>\n",
              "      <td>2</td>\n",
              "      <td>1200.0</td>\n",
              "      <td>7600.0</td>\n",
              "      <td>1</td>\n",
              "      <td>1</td>\n",
              "      <td>Medium Risk</td>\n",
              "      <td>Medium Risk</td>\n",
              "      <td>575.0</td>\n",
              "    </tr>\n",
              "    <tr>\n",
              "      <th>474</th>\n",
              "      <td>20.0</td>\n",
              "      <td>6.9</td>\n",
              "      <td>200000.0</td>\n",
              "      <td>0</td>\n",
              "      <td>0.0</td>\n",
              "      <td>2</td>\n",
              "      <td>850.0</td>\n",
              "      <td>5700.0</td>\n",
              "      <td>0</td>\n",
              "      <td>1</td>\n",
              "      <td>High Risk</td>\n",
              "      <td>High Risk</td>\n",
              "      <td>304.0</td>\n",
              "    </tr>\n",
              "    <tr>\n",
              "      <th>255</th>\n",
              "      <td>20.0</td>\n",
              "      <td>6.7</td>\n",
              "      <td>450000.0</td>\n",
              "      <td>0</td>\n",
              "      <td>0.0</td>\n",
              "      <td>2</td>\n",
              "      <td>800.0</td>\n",
              "      <td>5600.0</td>\n",
              "      <td>0</td>\n",
              "      <td>1</td>\n",
              "      <td>Medium Risk</td>\n",
              "      <td>Medium Risk</td>\n",
              "      <td>575.0</td>\n",
              "    </tr>\n",
              "    <tr>\n",
              "      <th>775</th>\n",
              "      <td>0.0</td>\n",
              "      <td>0.0</td>\n",
              "      <td>450000.0</td>\n",
              "      <td>1</td>\n",
              "      <td>0.0</td>\n",
              "      <td>1</td>\n",
              "      <td>0.0</td>\n",
              "      <td>0.0</td>\n",
              "      <td>0</td>\n",
              "      <td>1</td>\n",
              "      <td>High Risk</td>\n",
              "      <td>High Risk</td>\n",
              "      <td>300.0</td>\n",
              "    </tr>\n",
              "    <tr>\n",
              "      <th>3</th>\n",
              "      <td>23.0</td>\n",
              "      <td>9.1</td>\n",
              "      <td>1250000.0</td>\n",
              "      <td>1</td>\n",
              "      <td>2.0</td>\n",
              "      <td>2</td>\n",
              "      <td>2500.0</td>\n",
              "      <td>12000.0</td>\n",
              "      <td>1</td>\n",
              "      <td>0</td>\n",
              "      <td>Low Risk</td>\n",
              "      <td>Low Risk</td>\n",
              "      <td>850.0</td>\n",
              "    </tr>\n",
              "    <tr>\n",
              "      <th>83</th>\n",
              "      <td>20.0</td>\n",
              "      <td>6.7</td>\n",
              "      <td>450000.0</td>\n",
              "      <td>0</td>\n",
              "      <td>0.0</td>\n",
              "      <td>2</td>\n",
              "      <td>800.0</td>\n",
              "      <td>5600.0</td>\n",
              "      <td>0</td>\n",
              "      <td>1</td>\n",
              "      <td>Medium Risk</td>\n",
              "      <td>Medium Risk</td>\n",
              "      <td>575.0</td>\n",
              "    </tr>\n",
              "    <tr>\n",
              "      <th>222</th>\n",
              "      <td>21.0</td>\n",
              "      <td>7.6</td>\n",
              "      <td>800000.0</td>\n",
              "      <td>0</td>\n",
              "      <td>1.0</td>\n",
              "      <td>2</td>\n",
              "      <td>1200.0</td>\n",
              "      <td>7600.0</td>\n",
              "      <td>1</td>\n",
              "      <td>0</td>\n",
              "      <td>Medium Risk</td>\n",
              "      <td>Medium Risk</td>\n",
              "      <td>575.0</td>\n",
              "    </tr>\n",
              "    <tr>\n",
              "      <th>545</th>\n",
              "      <td>20.0</td>\n",
              "      <td>6.6</td>\n",
              "      <td>50000.0</td>\n",
              "      <td>0</td>\n",
              "      <td>0.0</td>\n",
              "      <td>2</td>\n",
              "      <td>850.0</td>\n",
              "      <td>5500.0</td>\n",
              "      <td>0</td>\n",
              "      <td>1</td>\n",
              "      <td>High Risk</td>\n",
              "      <td>Medium Risk</td>\n",
              "      <td>458.0</td>\n",
              "    </tr>\n",
              "    <tr>\n",
              "      <th>117</th>\n",
              "      <td>23.0</td>\n",
              "      <td>9.0</td>\n",
              "      <td>800000.0</td>\n",
              "      <td>1</td>\n",
              "      <td>2.0</td>\n",
              "      <td>2</td>\n",
              "      <td>2400.0</td>\n",
              "      <td>11500.0</td>\n",
              "      <td>1</td>\n",
              "      <td>0</td>\n",
              "      <td>Low Risk</td>\n",
              "      <td>Low Risk</td>\n",
              "      <td>850.0</td>\n",
              "    </tr>\n",
              "    <tr>\n",
              "      <th>301</th>\n",
              "      <td>22.0</td>\n",
              "      <td>8.9</td>\n",
              "      <td>800000.0</td>\n",
              "      <td>0</td>\n",
              "      <td>2.0</td>\n",
              "      <td>2</td>\n",
              "      <td>2200.0</td>\n",
              "      <td>10800.0</td>\n",
              "      <td>1</td>\n",
              "      <td>0</td>\n",
              "      <td>Low Risk</td>\n",
              "      <td>Low Risk</td>\n",
              "      <td>843.0</td>\n",
              "    </tr>\n",
              "  </tbody>\n",
              "</table>\n",
              "</div>\n",
              "    <div class=\"colab-df-buttons\">\n",
              "\n",
              "  <div class=\"colab-df-container\">\n",
              "    <button class=\"colab-df-convert\" onclick=\"convertToInteractive('df-582e0a10-8b6e-4236-9992-342e4d5aa530')\"\n",
              "            title=\"Convert this dataframe to an interactive table.\"\n",
              "            style=\"display:none;\">\n",
              "\n",
              "  <svg xmlns=\"http://www.w3.org/2000/svg\" height=\"24px\" viewBox=\"0 -960 960 960\">\n",
              "    <path d=\"M120-120v-720h720v720H120Zm60-500h600v-160H180v160Zm220 220h160v-160H400v160Zm0 220h160v-160H400v160ZM180-400h160v-160H180v160Zm440 0h160v-160H620v160ZM180-180h160v-160H180v160Zm440 0h160v-160H620v160Z\"/>\n",
              "  </svg>\n",
              "    </button>\n",
              "\n",
              "  <style>\n",
              "    .colab-df-container {\n",
              "      display:flex;\n",
              "      gap: 12px;\n",
              "    }\n",
              "\n",
              "    .colab-df-convert {\n",
              "      background-color: #E8F0FE;\n",
              "      border: none;\n",
              "      border-radius: 50%;\n",
              "      cursor: pointer;\n",
              "      display: none;\n",
              "      fill: #1967D2;\n",
              "      height: 32px;\n",
              "      padding: 0 0 0 0;\n",
              "      width: 32px;\n",
              "    }\n",
              "\n",
              "    .colab-df-convert:hover {\n",
              "      background-color: #E2EBFA;\n",
              "      box-shadow: 0px 1px 2px rgba(60, 64, 67, 0.3), 0px 1px 3px 1px rgba(60, 64, 67, 0.15);\n",
              "      fill: #174EA6;\n",
              "    }\n",
              "\n",
              "    .colab-df-buttons div {\n",
              "      margin-bottom: 4px;\n",
              "    }\n",
              "\n",
              "    [theme=dark] .colab-df-convert {\n",
              "      background-color: #3B4455;\n",
              "      fill: #D2E3FC;\n",
              "    }\n",
              "\n",
              "    [theme=dark] .colab-df-convert:hover {\n",
              "      background-color: #434B5C;\n",
              "      box-shadow: 0px 1px 3px 1px rgba(0, 0, 0, 0.15);\n",
              "      filter: drop-shadow(0px 1px 2px rgba(0, 0, 0, 0.3));\n",
              "      fill: #FFFFFF;\n",
              "    }\n",
              "  </style>\n",
              "\n",
              "    <script>\n",
              "      const buttonEl =\n",
              "        document.querySelector('#df-582e0a10-8b6e-4236-9992-342e4d5aa530 button.colab-df-convert');\n",
              "      buttonEl.style.display =\n",
              "        google.colab.kernel.accessAllowed ? 'block' : 'none';\n",
              "\n",
              "      async function convertToInteractive(key) {\n",
              "        const element = document.querySelector('#df-582e0a10-8b6e-4236-9992-342e4d5aa530');\n",
              "        const dataTable =\n",
              "          await google.colab.kernel.invokeFunction('convertToInteractive',\n",
              "                                                    [key], {});\n",
              "        if (!dataTable) return;\n",
              "\n",
              "        const docLinkHtml = 'Like what you see? Visit the ' +\n",
              "          '<a target=\"_blank\" href=https://colab.research.google.com/notebooks/data_table.ipynb>data table notebook</a>'\n",
              "          + ' to learn more about interactive tables.';\n",
              "        element.innerHTML = '';\n",
              "        dataTable['output_type'] = 'display_data';\n",
              "        await google.colab.output.renderOutput(dataTable, element);\n",
              "        const docLink = document.createElement('div');\n",
              "        docLink.innerHTML = docLinkHtml;\n",
              "        element.appendChild(docLink);\n",
              "      }\n",
              "    </script>\n",
              "  </div>\n",
              "\n",
              "\n",
              "    <div id=\"df-33bef156-21b9-4897-88aa-d20e61db9b2b\">\n",
              "      <button class=\"colab-df-quickchart\" onclick=\"quickchart('df-33bef156-21b9-4897-88aa-d20e61db9b2b')\"\n",
              "                title=\"Suggest charts\"\n",
              "                style=\"display:none;\">\n",
              "\n",
              "<svg xmlns=\"http://www.w3.org/2000/svg\" height=\"24px\"viewBox=\"0 0 24 24\"\n",
              "     width=\"24px\">\n",
              "    <g>\n",
              "        <path d=\"M19 3H5c-1.1 0-2 .9-2 2v14c0 1.1.9 2 2 2h14c1.1 0 2-.9 2-2V5c0-1.1-.9-2-2-2zM9 17H7v-7h2v7zm4 0h-2V7h2v10zm4 0h-2v-4h2v4z\"/>\n",
              "    </g>\n",
              "</svg>\n",
              "      </button>\n",
              "\n",
              "<style>\n",
              "  .colab-df-quickchart {\n",
              "      --bg-color: #E8F0FE;\n",
              "      --fill-color: #1967D2;\n",
              "      --hover-bg-color: #E2EBFA;\n",
              "      --hover-fill-color: #174EA6;\n",
              "      --disabled-fill-color: #AAA;\n",
              "      --disabled-bg-color: #DDD;\n",
              "  }\n",
              "\n",
              "  [theme=dark] .colab-df-quickchart {\n",
              "      --bg-color: #3B4455;\n",
              "      --fill-color: #D2E3FC;\n",
              "      --hover-bg-color: #434B5C;\n",
              "      --hover-fill-color: #FFFFFF;\n",
              "      --disabled-bg-color: #3B4455;\n",
              "      --disabled-fill-color: #666;\n",
              "  }\n",
              "\n",
              "  .colab-df-quickchart {\n",
              "    background-color: var(--bg-color);\n",
              "    border: none;\n",
              "    border-radius: 50%;\n",
              "    cursor: pointer;\n",
              "    display: none;\n",
              "    fill: var(--fill-color);\n",
              "    height: 32px;\n",
              "    padding: 0;\n",
              "    width: 32px;\n",
              "  }\n",
              "\n",
              "  .colab-df-quickchart:hover {\n",
              "    background-color: var(--hover-bg-color);\n",
              "    box-shadow: 0 1px 2px rgba(60, 64, 67, 0.3), 0 1px 3px 1px rgba(60, 64, 67, 0.15);\n",
              "    fill: var(--button-hover-fill-color);\n",
              "  }\n",
              "\n",
              "  .colab-df-quickchart-complete:disabled,\n",
              "  .colab-df-quickchart-complete:disabled:hover {\n",
              "    background-color: var(--disabled-bg-color);\n",
              "    fill: var(--disabled-fill-color);\n",
              "    box-shadow: none;\n",
              "  }\n",
              "\n",
              "  .colab-df-spinner {\n",
              "    border: 2px solid var(--fill-color);\n",
              "    border-color: transparent;\n",
              "    border-bottom-color: var(--fill-color);\n",
              "    animation:\n",
              "      spin 1s steps(1) infinite;\n",
              "  }\n",
              "\n",
              "  @keyframes spin {\n",
              "    0% {\n",
              "      border-color: transparent;\n",
              "      border-bottom-color: var(--fill-color);\n",
              "      border-left-color: var(--fill-color);\n",
              "    }\n",
              "    20% {\n",
              "      border-color: transparent;\n",
              "      border-left-color: var(--fill-color);\n",
              "      border-top-color: var(--fill-color);\n",
              "    }\n",
              "    30% {\n",
              "      border-color: transparent;\n",
              "      border-left-color: var(--fill-color);\n",
              "      border-top-color: var(--fill-color);\n",
              "      border-right-color: var(--fill-color);\n",
              "    }\n",
              "    40% {\n",
              "      border-color: transparent;\n",
              "      border-right-color: var(--fill-color);\n",
              "      border-top-color: var(--fill-color);\n",
              "    }\n",
              "    60% {\n",
              "      border-color: transparent;\n",
              "      border-right-color: var(--fill-color);\n",
              "    }\n",
              "    80% {\n",
              "      border-color: transparent;\n",
              "      border-right-color: var(--fill-color);\n",
              "      border-bottom-color: var(--fill-color);\n",
              "    }\n",
              "    90% {\n",
              "      border-color: transparent;\n",
              "      border-bottom-color: var(--fill-color);\n",
              "    }\n",
              "  }\n",
              "</style>\n",
              "\n",
              "      <script>\n",
              "        async function quickchart(key) {\n",
              "          const quickchartButtonEl =\n",
              "            document.querySelector('#' + key + ' button');\n",
              "          quickchartButtonEl.disabled = true;  // To prevent multiple clicks.\n",
              "          quickchartButtonEl.classList.add('colab-df-spinner');\n",
              "          try {\n",
              "            const charts = await google.colab.kernel.invokeFunction(\n",
              "                'suggestCharts', [key], {});\n",
              "          } catch (error) {\n",
              "            console.error('Error during call to suggestCharts:', error);\n",
              "          }\n",
              "          quickchartButtonEl.classList.remove('colab-df-spinner');\n",
              "          quickchartButtonEl.classList.add('colab-df-quickchart-complete');\n",
              "        }\n",
              "        (() => {\n",
              "          let quickchartButtonEl =\n",
              "            document.querySelector('#df-33bef156-21b9-4897-88aa-d20e61db9b2b button');\n",
              "          quickchartButtonEl.style.display =\n",
              "            google.colab.kernel.accessAllowed ? 'block' : 'none';\n",
              "        })();\n",
              "      </script>\n",
              "    </div>\n",
              "\n",
              "    </div>\n",
              "  </div>\n"
            ],
            "application/vnd.google.colaboratory.intrinsic+json": {
              "type": "dataframe",
              "variable_name": "results",
              "summary": "{\n  \"name\": \"results\",\n  \"rows\": 160,\n  \"fields\": [\n    {\n      \"column\": \"Age\",\n      \"properties\": {\n        \"dtype\": \"number\",\n        \"std\": 4.1544049139051475,\n        \"min\": 0.0,\n        \"max\": 23.0,\n        \"num_unique_values\": 6,\n        \"samples\": [\n          21.0,\n          20.0,\n          19.0\n        ],\n        \"semantic_type\": \"\",\n        \"description\": \"\"\n      }\n    },\n    {\n      \"column\": \"CGPA\",\n      \"properties\": {\n        \"dtype\": \"number\",\n        \"std\": 1.6639254186237251,\n        \"min\": 0.0,\n        \"max\": 9.1,\n        \"num_unique_values\": 27,\n        \"samples\": [\n          6.5,\n          8.0,\n          7.2\n        ],\n        \"semantic_type\": \"\",\n        \"description\": \"\"\n      }\n    },\n    {\n      \"column\": \"Family_Income_Clean\",\n      \"properties\": {\n        \"dtype\": \"number\",\n        \"std\": 363724.07729282335,\n        \"min\": 50000.0,\n        \"max\": 1250000.0,\n        \"num_unique_values\": 5,\n        \"samples\": [\n          200000.0,\n          800000.0,\n          450000.0\n        ],\n        \"semantic_type\": \"\",\n        \"description\": \"\"\n      }\n    },\n    {\n      \"column\": \"Has_Loan\",\n      \"properties\": {\n        \"dtype\": \"number\",\n        \"std\": 0,\n        \"min\": 0,\n        \"max\": 1,\n        \"num_unique_values\": 2,\n        \"samples\": [\n          1,\n          0\n        ],\n        \"semantic_type\": \"\",\n        \"description\": \"\"\n      }\n    },\n    {\n      \"column\": \"Savings_Score\",\n      \"properties\": {\n        \"dtype\": \"number\",\n        \"std\": 0.8298670045754433,\n        \"min\": 0.0,\n        \"max\": 2.0,\n        \"num_unique_values\": 3,\n        \"samples\": [\n          1.0,\n          0.0\n        ],\n        \"semantic_type\": \"\",\n        \"description\": \"\"\n      }\n    },\n    {\n      \"column\": \"Subscriptions_Count\",\n      \"properties\": {\n        \"dtype\": \"number\",\n        \"std\": 0,\n        \"min\": 1,\n        \"max\": 2,\n        \"num_unique_values\": 2,\n        \"samples\": [\n          1,\n          2\n        ],\n        \"semantic_type\": \"\",\n        \"description\": \"\"\n      }\n    },\n    {\n      \"column\": \"Food_Spend\",\n      \"properties\": {\n        \"dtype\": \"number\",\n        \"std\": 674.997015483735,\n        \"min\": 0.0,\n        \"max\": 2500.0,\n        \"num_unique_values\": 32,\n        \"samples\": [\n          1300.0,\n          1250.0\n        ],\n        \"semantic_type\": \"\",\n        \"description\": \"\"\n      }\n    },\n    {\n      \"column\": \"Monthly_Expenses\",\n      \"properties\": {\n        \"dtype\": \"number\",\n        \"std\": 2795.1032541317436,\n        \"min\": 0.0,\n        \"max\": 12000.0,\n        \"num_unique_values\": 39,\n        \"samples\": [\n          4200.0,\n          8400.0\n        ],\n        \"semantic_type\": \"\",\n        \"description\": \"\"\n      }\n    },\n    {\n      \"column\": \"Has_Internship\",\n      \"properties\": {\n        \"dtype\": \"number\",\n        \"std\": 0,\n        \"min\": 0,\n        \"max\": 1,\n        \"num_unique_values\": 2,\n        \"samples\": [\n          0,\n          1\n        ],\n        \"semantic_type\": \"\",\n        \"description\": \"\"\n      }\n    },\n    {\n      \"column\": \"Has_Scholarship\",\n      \"properties\": {\n        \"dtype\": \"number\",\n        \"std\": 0,\n        \"min\": 0,\n        \"max\": 1,\n        \"num_unique_values\": 2,\n        \"samples\": [\n          0,\n          1\n        ],\n        \"semantic_type\": \"\",\n        \"description\": \"\"\n      }\n    },\n    {\n      \"column\": \"True_Risk\",\n      \"properties\": {\n        \"dtype\": \"category\",\n        \"num_unique_values\": 3,\n        \"samples\": [\n          \"Medium Risk\",\n          \"High Risk\"\n        ],\n        \"semantic_type\": \"\",\n        \"description\": \"\"\n      }\n    },\n    {\n      \"column\": \"Pred_Risk\",\n      \"properties\": {\n        \"dtype\": \"category\",\n        \"num_unique_values\": 3,\n        \"samples\": [\n          \"Medium Risk\",\n          \"High Risk\"\n        ],\n        \"semantic_type\": \"\",\n        \"description\": \"\"\n      }\n    },\n    {\n      \"column\": \"Credit_Score_300_850\",\n      \"properties\": {\n        \"dtype\": \"number\",\n        \"std\": 144.27371443777608,\n        \"min\": 300.0,\n        \"max\": 850.0,\n        \"num_unique_values\": 24,\n        \"samples\": [\n          839.0,\n          847.0\n        ],\n        \"semantic_type\": \"\",\n        \"description\": \"\"\n      }\n    }\n  ]\n}"
            }
          },
          "metadata": {},
          "execution_count": 20
        }
      ]
    },
    {
      "cell_type": "markdown",
      "source": [
        "# Deployment Function"
      ],
      "metadata": {
        "id": "0m1a1kZfjJBr"
      }
    },
    {
      "cell_type": "code",
      "source": [
        "def get_credit_score(student_data, model, features, classes):\n",
        "\n",
        "    import pandas as pd\n",
        "    import numpy as np\n",
        "\n",
        "    # Convert dict to DataFrame\n",
        "    student_df = pd.DataFrame([student_data], columns=features)\n",
        "\n",
        "    # Predict probabilities\n",
        "    probs = model.predict_proba(student_df)[0]\n",
        "\n",
        "    # Map risk bucket\n",
        "    base_scores = {\n",
        "        \"High Risk\": 300,\n",
        "        \"Medium Risk\": 575,\n",
        "        \"Low Risk\": 850\n",
        "    }\n",
        "\n",
        "    # Weighted average credit score\n",
        "    credit_score = sum(probs[i] * base_scores[c] for i, c in enumerate(classes))\n",
        "    credit_score = float(round(credit_score, 1))\n",
        "\n",
        "    # Predicted class\n",
        "    risk_bucket = model.predict(student_df)[0]\n",
        "\n",
        "    # feature importances from Random Forest\n",
        "    importances = model.feature_importances_\n",
        "    sorted_idx = np.argsort(importances)[::-1]\n",
        "    top_features = [(features[i], float(student_df.iloc[0, i])) for i in sorted_idx[:2]]\n",
        "\n",
        "    return {\n",
        "        \"Risk_Bucket\": risk_bucket,\n",
        "        \"Credit_Score\": credit_score,\n",
        "        \"Top_Factors\": top_features\n",
        "    }"
      ],
      "metadata": {
        "id": "eQnuCNIyRJ5G"
      },
      "execution_count": 21,
      "outputs": []
    },
    {
      "cell_type": "markdown",
      "source": [
        "Example usage"
      ],
      "metadata": {
        "id": "kybJN6sNju_E"
      }
    },
    {
      "cell_type": "code",
      "source": [
        "# Example student data\n",
        "new_student = {\n",
        "    \"Age\": 21,\n",
        "    \"CGPA\": 7.8,\n",
        "    \"Family_Income_Clean\": 600000,\n",
        "    \"Has_Loan\": 0,\n",
        "    \"Savings_Score\": 1,\n",
        "    \"Subscriptions_Count\": 2,\n",
        "    \"Food_Spend\": 1200,\n",
        "    \"Monthly_Expenses\": 7500,\n",
        "    \"Has_Internship\": 1,\n",
        "    \"Has_Scholarship\": 0\n",
        "}\n",
        "\n",
        "result = get_credit_score(new_student, rf, features, rf.classes_)\n",
        "print(result)"
      ],
      "metadata": {
        "colab": {
          "base_uri": "https://localhost:8080/"
        },
        "id": "9AgCKLowjsdO",
        "outputId": "4158651a-8c07-406a-943b-403276e9a04a"
      },
      "execution_count": 22,
      "outputs": [
        {
          "output_type": "stream",
          "name": "stdout",
          "text": [
            "{'Risk_Bucket': 'Medium Risk', 'Credit_Score': 575.0, 'Top_Factors': [('CGPA', 7.8), ('Family_Income_Clean', 600000.0)]}\n"
          ]
        }
      ]
    },
    {
      "cell_type": "markdown",
      "source": [
        "# Streamlite App"
      ],
      "metadata": {
        "id": "mKY5SKs5ktqD"
      }
    },
    {
      "cell_type": "code",
      "source": [
        "!pip install streamlit\n",
        "!pip install pyngrok"
      ],
      "metadata": {
        "colab": {
          "base_uri": "https://localhost:8080/"
        },
        "id": "cePogAZsj4es",
        "outputId": "3d5db4c6-b368-45c0-e3c4-55c9d8084778"
      },
      "execution_count": 23,
      "outputs": [
        {
          "output_type": "stream",
          "name": "stdout",
          "text": [
            "Collecting streamlit\n",
            "  Downloading streamlit-1.49.1-py3-none-any.whl.metadata (9.5 kB)\n",
            "Requirement already satisfied: altair!=5.4.0,!=5.4.1,<6,>=4.0 in /usr/local/lib/python3.12/dist-packages (from streamlit) (5.5.0)\n",
            "Requirement already satisfied: blinker<2,>=1.5.0 in /usr/local/lib/python3.12/dist-packages (from streamlit) (1.9.0)\n",
            "Requirement already satisfied: cachetools<7,>=4.0 in /usr/local/lib/python3.12/dist-packages (from streamlit) (5.5.2)\n",
            "Requirement already satisfied: click<9,>=7.0 in /usr/local/lib/python3.12/dist-packages (from streamlit) (8.2.1)\n",
            "Requirement already satisfied: numpy<3,>=1.23 in /usr/local/lib/python3.12/dist-packages (from streamlit) (2.0.2)\n",
            "Requirement already satisfied: packaging<26,>=20 in /usr/local/lib/python3.12/dist-packages (from streamlit) (25.0)\n",
            "Requirement already satisfied: pandas<3,>=1.4.0 in /usr/local/lib/python3.12/dist-packages (from streamlit) (2.2.2)\n",
            "Requirement already satisfied: pillow<12,>=7.1.0 in /usr/local/lib/python3.12/dist-packages (from streamlit) (11.3.0)\n",
            "Requirement already satisfied: protobuf<7,>=3.20 in /usr/local/lib/python3.12/dist-packages (from streamlit) (5.29.5)\n",
            "Requirement already satisfied: pyarrow>=7.0 in /usr/local/lib/python3.12/dist-packages (from streamlit) (18.1.0)\n",
            "Requirement already satisfied: requests<3,>=2.27 in /usr/local/lib/python3.12/dist-packages (from streamlit) (2.32.4)\n",
            "Requirement already satisfied: tenacity<10,>=8.1.0 in /usr/local/lib/python3.12/dist-packages (from streamlit) (8.5.0)\n",
            "Requirement already satisfied: toml<2,>=0.10.1 in /usr/local/lib/python3.12/dist-packages (from streamlit) (0.10.2)\n",
            "Requirement already satisfied: typing-extensions<5,>=4.4.0 in /usr/local/lib/python3.12/dist-packages (from streamlit) (4.15.0)\n",
            "Requirement already satisfied: watchdog<7,>=2.1.5 in /usr/local/lib/python3.12/dist-packages (from streamlit) (6.0.0)\n",
            "Requirement already satisfied: gitpython!=3.1.19,<4,>=3.0.7 in /usr/local/lib/python3.12/dist-packages (from streamlit) (3.1.45)\n",
            "Collecting pydeck<1,>=0.8.0b4 (from streamlit)\n",
            "  Downloading pydeck-0.9.1-py2.py3-none-any.whl.metadata (4.1 kB)\n",
            "Requirement already satisfied: tornado!=6.5.0,<7,>=6.0.3 in /usr/local/lib/python3.12/dist-packages (from streamlit) (6.4.2)\n",
            "Requirement already satisfied: jinja2 in /usr/local/lib/python3.12/dist-packages (from altair!=5.4.0,!=5.4.1,<6,>=4.0->streamlit) (3.1.6)\n",
            "Requirement already satisfied: jsonschema>=3.0 in /usr/local/lib/python3.12/dist-packages (from altair!=5.4.0,!=5.4.1,<6,>=4.0->streamlit) (4.25.1)\n",
            "Requirement already satisfied: narwhals>=1.14.2 in /usr/local/lib/python3.12/dist-packages (from altair!=5.4.0,!=5.4.1,<6,>=4.0->streamlit) (2.4.0)\n",
            "Requirement already satisfied: gitdb<5,>=4.0.1 in /usr/local/lib/python3.12/dist-packages (from gitpython!=3.1.19,<4,>=3.0.7->streamlit) (4.0.12)\n",
            "Requirement already satisfied: python-dateutil>=2.8.2 in /usr/local/lib/python3.12/dist-packages (from pandas<3,>=1.4.0->streamlit) (2.9.0.post0)\n",
            "Requirement already satisfied: pytz>=2020.1 in /usr/local/lib/python3.12/dist-packages (from pandas<3,>=1.4.0->streamlit) (2025.2)\n",
            "Requirement already satisfied: tzdata>=2022.7 in /usr/local/lib/python3.12/dist-packages (from pandas<3,>=1.4.0->streamlit) (2025.2)\n",
            "Requirement already satisfied: charset_normalizer<4,>=2 in /usr/local/lib/python3.12/dist-packages (from requests<3,>=2.27->streamlit) (3.4.3)\n",
            "Requirement already satisfied: idna<4,>=2.5 in /usr/local/lib/python3.12/dist-packages (from requests<3,>=2.27->streamlit) (3.10)\n",
            "Requirement already satisfied: urllib3<3,>=1.21.1 in /usr/local/lib/python3.12/dist-packages (from requests<3,>=2.27->streamlit) (2.5.0)\n",
            "Requirement already satisfied: certifi>=2017.4.17 in /usr/local/lib/python3.12/dist-packages (from requests<3,>=2.27->streamlit) (2025.8.3)\n",
            "Requirement already satisfied: smmap<6,>=3.0.1 in /usr/local/lib/python3.12/dist-packages (from gitdb<5,>=4.0.1->gitpython!=3.1.19,<4,>=3.0.7->streamlit) (5.0.2)\n",
            "Requirement already satisfied: MarkupSafe>=2.0 in /usr/local/lib/python3.12/dist-packages (from jinja2->altair!=5.4.0,!=5.4.1,<6,>=4.0->streamlit) (3.0.2)\n",
            "Requirement already satisfied: attrs>=22.2.0 in /usr/local/lib/python3.12/dist-packages (from jsonschema>=3.0->altair!=5.4.0,!=5.4.1,<6,>=4.0->streamlit) (25.3.0)\n",
            "Requirement already satisfied: jsonschema-specifications>=2023.03.6 in /usr/local/lib/python3.12/dist-packages (from jsonschema>=3.0->altair!=5.4.0,!=5.4.1,<6,>=4.0->streamlit) (2025.9.1)\n",
            "Requirement already satisfied: referencing>=0.28.4 in /usr/local/lib/python3.12/dist-packages (from jsonschema>=3.0->altair!=5.4.0,!=5.4.1,<6,>=4.0->streamlit) (0.36.2)\n",
            "Requirement already satisfied: rpds-py>=0.7.1 in /usr/local/lib/python3.12/dist-packages (from jsonschema>=3.0->altair!=5.4.0,!=5.4.1,<6,>=4.0->streamlit) (0.27.1)\n",
            "Requirement already satisfied: six>=1.5 in /usr/local/lib/python3.12/dist-packages (from python-dateutil>=2.8.2->pandas<3,>=1.4.0->streamlit) (1.17.0)\n",
            "Downloading streamlit-1.49.1-py3-none-any.whl (10.0 MB)\n",
            "\u001b[2K   \u001b[90m━━━━━━━━━━━━━━━━━━━━━━━━━━━━━━━━━━━━━━━━\u001b[0m \u001b[32m10.0/10.0 MB\u001b[0m \u001b[31m64.6 MB/s\u001b[0m eta \u001b[36m0:00:00\u001b[0m\n",
            "\u001b[?25hDownloading pydeck-0.9.1-py2.py3-none-any.whl (6.9 MB)\n",
            "\u001b[2K   \u001b[90m━━━━━━━━━━━━━━━━━━━━━━━━━━━━━━━━━━━━━━━━\u001b[0m \u001b[32m6.9/6.9 MB\u001b[0m \u001b[31m84.2 MB/s\u001b[0m eta \u001b[36m0:00:00\u001b[0m\n",
            "\u001b[?25hInstalling collected packages: pydeck, streamlit\n",
            "Successfully installed pydeck-0.9.1 streamlit-1.49.1\n",
            "Collecting pyngrok\n",
            "  Downloading pyngrok-7.3.0-py3-none-any.whl.metadata (8.1 kB)\n",
            "Requirement already satisfied: PyYAML>=5.1 in /usr/local/lib/python3.12/dist-packages (from pyngrok) (6.0.2)\n",
            "Downloading pyngrok-7.3.0-py3-none-any.whl (25 kB)\n",
            "Installing collected packages: pyngrok\n",
            "Successfully installed pyngrok-7.3.0\n"
          ]
        }
      ]
    },
    {
      "cell_type": "code",
      "source": [
        "import streamlit as st\n",
        "import pandas as pd\n",
        "import joblib"
      ],
      "metadata": {
        "id": "yvCiW794k8qQ"
      },
      "execution_count": 24,
      "outputs": []
    },
    {
      "cell_type": "code",
      "source": [
        "joblib.dump(rf, \"credit_model.pkl\")\n",
        "joblib.dump(features, \"features.pkl\")\n",
        "\n",
        "print(\"Saved credit_model.pkl and features.pkl\")"
      ],
      "metadata": {
        "colab": {
          "base_uri": "https://localhost:8080/"
        },
        "id": "CBTRbjMFmaDp",
        "outputId": "a4cd928a-78ec-4c11-ba51-cac19391134a"
      },
      "execution_count": 25,
      "outputs": [
        {
          "output_type": "stream",
          "name": "stdout",
          "text": [
            "Saved credit_model.pkl and features.pkl\n"
          ]
        }
      ]
    },
    {
      "cell_type": "markdown",
      "source": [
        "# Save Processed Files"
      ],
      "metadata": {
        "id": "UBKC617vE8Ek"
      }
    },
    {
      "cell_type": "code",
      "source": [
        "from google.colab import files\n",
        "\n",
        "# Save processed dataset\n",
        "df.to_csv(\"processed_student_data.csv\", index=False)\n",
        "\n",
        "# Download files\n",
        "files.download(\"processed_student_data.csv\")"
      ],
      "metadata": {
        "colab": {
          "base_uri": "https://localhost:8080/",
          "height": 17
        },
        "id": "_tRQywpaE_nE",
        "outputId": "85b5bbf6-26a3-48b6-ec40-83f5c78fd393"
      },
      "execution_count": 26,
      "outputs": [
        {
          "output_type": "display_data",
          "data": {
            "text/plain": [
              "<IPython.core.display.Javascript object>"
            ],
            "application/javascript": [
              "\n",
              "    async function download(id, filename, size) {\n",
              "      if (!google.colab.kernel.accessAllowed) {\n",
              "        return;\n",
              "      }\n",
              "      const div = document.createElement('div');\n",
              "      const label = document.createElement('label');\n",
              "      label.textContent = `Downloading \"${filename}\": `;\n",
              "      div.appendChild(label);\n",
              "      const progress = document.createElement('progress');\n",
              "      progress.max = size;\n",
              "      div.appendChild(progress);\n",
              "      document.body.appendChild(div);\n",
              "\n",
              "      const buffers = [];\n",
              "      let downloaded = 0;\n",
              "\n",
              "      const channel = await google.colab.kernel.comms.open(id);\n",
              "      // Send a message to notify the kernel that we're ready.\n",
              "      channel.send({})\n",
              "\n",
              "      for await (const message of channel.messages) {\n",
              "        // Send a message to notify the kernel that we're ready.\n",
              "        channel.send({})\n",
              "        if (message.buffers) {\n",
              "          for (const buffer of message.buffers) {\n",
              "            buffers.push(buffer);\n",
              "            downloaded += buffer.byteLength;\n",
              "            progress.value = downloaded;\n",
              "          }\n",
              "        }\n",
              "      }\n",
              "      const blob = new Blob(buffers, {type: 'application/binary'});\n",
              "      const a = document.createElement('a');\n",
              "      a.href = window.URL.createObjectURL(blob);\n",
              "      a.download = filename;\n",
              "      div.appendChild(a);\n",
              "      a.click();\n",
              "      div.remove();\n",
              "    }\n",
              "  "
            ]
          },
          "metadata": {}
        },
        {
          "output_type": "display_data",
          "data": {
            "text/plain": [
              "<IPython.core.display.Javascript object>"
            ],
            "application/javascript": [
              "download(\"download_cdcbf2a8-17af-4dcb-b49f-c46631cf573f\", \"processed_student_data.csv\", 124968)"
            ]
          },
          "metadata": {}
        }
      ]
    }
  ]
}